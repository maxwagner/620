{
 "cells": [
  {
   "cell_type": "markdown",
   "metadata": {},
   "source": [
    "## Max Wagner\n",
    "## Week 9 - Project 3 - Data 620"
   ]
  },
  {
   "cell_type": "code",
   "execution_count": 1,
   "metadata": {
    "collapsed": true
   },
   "outputs": [],
   "source": [
    "import nltk\n",
    "from nltk.corpus import names\n",
    "import random"
   ]
  },
  {
   "cell_type": "code",
   "execution_count": 2,
   "metadata": {
    "collapsed": false
   },
   "outputs": [],
   "source": [
    "# returns the last letter\n",
    "def gender_features(word):\n",
    "    return {'last_letter': word[-1]}"
   ]
  },
  {
   "cell_type": "code",
   "execution_count": 3,
   "metadata": {
    "collapsed": false
   },
   "outputs": [],
   "source": [
    "# loads in names, shuffles them up\n",
    "names = ([(name, 'male') for name in names.words('male.txt')] +\n",
    "         [(name, 'female') for name in names.words('female.txt')])\n",
    "random.shuffle(names)"
   ]
  },
  {
   "cell_type": "code",
   "execution_count": 4,
   "metadata": {
    "collapsed": true
   },
   "outputs": [],
   "source": [
    "# break into a training and test set (500, 500, remaining)\n",
    "featuresets = [(gender_features(n), g) for (n,g) in names]\n",
    "train_set, dev_set, test_set = featuresets[0:500], featuresets[500:1000], featuresets[1000:]\n",
    "classifier = nltk.NaiveBayesClassifier.train(train_set)"
   ]
  },
  {
   "cell_type": "code",
   "execution_count": 5,
   "metadata": {
    "collapsed": false
   },
   "outputs": [
    {
     "name": "stdout",
     "output_type": "stream",
     "text": [
      "0.708\n"
     ]
    }
   ],
   "source": [
    "# test with dev set for a starting level\n",
    "print nltk.classify.accuracy(classifier, dev_set)"
   ]
  },
  {
   "cell_type": "code",
   "execution_count": 6,
   "metadata": {
    "collapsed": false
   },
   "outputs": [
    {
     "name": "stdout",
     "output_type": "stream",
     "text": [
      "Most Informative Features\n",
      "             last_letter = u'a'           female : male   =     17.3 : 1.0\n",
      "             last_letter = u'o'             male : female =     12.6 : 1.0\n",
      "             last_letter = u'r'             male : female =      7.4 : 1.0\n",
      "             last_letter = u's'             male : female =      7.4 : 1.0\n",
      "             last_letter = u'd'             male : female =      7.0 : 1.0\n",
      "             last_letter = u'k'             male : female =      4.2 : 1.0\n",
      "             last_letter = u'g'             male : female =      3.3 : 1.0\n",
      "             last_letter = u'h'             male : female =      3.0 : 1.0\n",
      "             last_letter = u'f'             male : female =      2.3 : 1.0\n",
      "             last_letter = u'n'             male : female =      2.2 : 1.0\n"
     ]
    }
   ],
   "source": [
    "# whats the most imformative to start with\n",
    "classifier.show_most_informative_features(10)"
   ]
  },
  {
   "cell_type": "code",
   "execution_count": 7,
   "metadata": {
    "collapsed": false
   },
   "outputs": [],
   "source": [
    "# a second gender features def from the book that will probably overfit\n",
    "def gender_features2(name):\n",
    "    features = {}\n",
    "    features[\"firstletter\"] = name[0].lower()\n",
    "    features[\"lastletter\"] = name[-1].lower()\n",
    "    for letter in 'abcdefghijklmnopqrstuvwxyz':\n",
    "        features[\"count(%s)\" % letter] = name.lower().count(letter)\n",
    "        features[\"has(%s)\" % letter] = (letter in name.lower())\n",
    "    return features"
   ]
  },
  {
   "cell_type": "code",
   "execution_count": 8,
   "metadata": {
    "collapsed": false
   },
   "outputs": [
    {
     "name": "stdout",
     "output_type": "stream",
     "text": [
      "0.726\n"
     ]
    }
   ],
   "source": [
    "# break into a training and test set (500, 500, remaining)... again with gender2\n",
    "featuresets = [(gender_features2(n), g) for (n,g) in names]\n",
    "train_set, dev_set, test_set = featuresets[0:500], featuresets[500:1000], featuresets[1000:]\n",
    "classifier = nltk.NaiveBayesClassifier.train(train_set)\n",
    "print nltk.classify.accuracy(classifier, dev_set)\n",
    "# looks like it's almost the same as it was before... overfitting"
   ]
  },
  {
   "cell_type": "code",
   "execution_count": 9,
   "metadata": {
    "collapsed": false
   },
   "outputs": [
    {
     "name": "stdout",
     "output_type": "stream",
     "text": [
      "correct=male     guess=female   name=Abel                          \n",
      "correct=male     guess=female   name=Abraham                       \n",
      "correct=male     guess=female   name=Ahmed                         \n",
      "correct=male     guess=female   name=Allah                         \n",
      "correct=male     guess=female   name=Amos                          \n",
      "correct=male     guess=female   name=Andonis                       \n",
      "correct=male     guess=female   name=Anthony                       \n",
      "correct=male     guess=female   name=Antonio                       \n",
      "correct=male     guess=female   name=Ashley                        \n",
      "correct=male     guess=female   name=Barrie                        \n",
      "correct=male     guess=female   name=Bartel                        \n",
      "correct=male     guess=female   name=Bearnard                      \n",
      "correct=male     guess=female   name=Beau                          \n",
      "correct=male     guess=female   name=Berchtold                     \n",
      "correct=male     guess=female   name=Bernie                        \n",
      "correct=male     guess=female   name=Bradford                      \n",
      "correct=male     guess=female   name=Brook                         \n",
      "correct=male     guess=female   name=Bryant                        \n",
      "correct=male     guess=female   name=Bryn                          \n",
      "correct=male     guess=female   name=Casper                        \n",
      "correct=male     guess=female   name=Cat                           \n",
      "correct=male     guess=female   name=Cecil                         \n",
      "correct=male     guess=female   name=Charleton                     \n",
      "correct=male     guess=female   name=Che                           \n",
      "correct=male     guess=female   name=Chet                          \n",
      "correct=male     guess=female   name=Christoph                     \n",
      "correct=male     guess=female   name=Churchill                     \n",
      "correct=male     guess=female   name=Clarence                      \n",
      "correct=male     guess=female   name=Claude                        \n",
      "correct=male     guess=female   name=Claudius                      \n",
      "correct=male     guess=female   name=Clifton                       \n",
      "correct=male     guess=female   name=Corrie                        \n",
      "correct=male     guess=female   name=Costa                         \n",
      "correct=male     guess=female   name=Cy                            \n",
      "correct=male     guess=female   name=Darren                        \n",
      "correct=male     guess=female   name=Davidson                      \n",
      "correct=male     guess=female   name=Deane                         \n",
      "correct=male     guess=female   name=Demosthenis                   \n",
      "correct=male     guess=female   name=Derrick                       \n",
      "correct=male     guess=female   name=Derron                        \n",
      "correct=male     guess=female   name=Dewitt                        \n",
      "correct=male     guess=female   name=Dirk                          \n",
      "correct=male     guess=female   name=Dorian                        \n",
      "correct=male     guess=female   name=Duane                         \n",
      "correct=male     guess=female   name=Eduard                        \n",
      "correct=male     guess=female   name=Efram                         \n",
      "correct=male     guess=female   name=Eliot                         \n",
      "correct=male     guess=female   name=Elton                         \n",
      "correct=male     guess=female   name=Emile                         \n",
      "correct=male     guess=female   name=Emmery                        \n",
      "correct=male     guess=female   name=Erich                         \n",
      "correct=male     guess=female   name=Everard                       \n",
      "correct=male     guess=female   name=Ewart                         \n",
      "correct=male     guess=female   name=Ferinand                      \n",
      "correct=male     guess=female   name=Fernando                      \n",
      "correct=male     guess=female   name=Filbert                       \n",
      "correct=male     guess=female   name=Flem                          \n",
      "correct=male     guess=female   name=Floyd                         \n",
      "correct=male     guess=female   name=Fonsie                        \n",
      "correct=male     guess=female   name=Forrest                       \n",
      "correct=male     guess=female   name=Fowler                        \n",
      "correct=male     guess=female   name=Franklin                      \n",
      "correct=male     guess=female   name=Frederick                     \n",
      "correct=male     guess=female   name=Fremont                       \n",
      "correct=male     guess=female   name=Garrott                       \n",
      "correct=male     guess=female   name=Germaine                      \n",
      "correct=male     guess=female   name=Giffard                       \n",
      "correct=male     guess=female   name=Giorgio                       \n",
      "correct=male     guess=female   name=Goddard                       \n",
      "correct=male     guess=female   name=Gus                           \n",
      "correct=male     guess=female   name=Hadrian                       \n",
      "correct=male     guess=female   name=Hallam                        \n",
      "correct=male     guess=female   name=Hart                          \n",
      "correct=male     guess=female   name=Harvie                        \n",
      "correct=male     guess=female   name=Hercules                      \n",
      "correct=male     guess=female   name=Hiralal                       \n",
      "correct=male     guess=female   name=Horatio                       \n",
      "correct=male     guess=female   name=Hubert                        \n",
      "correct=male     guess=female   name=Hy                            \n",
      "correct=male     guess=female   name=Iain                          \n",
      "correct=male     guess=female   name=Igor                          \n",
      "correct=male     guess=female   name=Ingamar                       \n",
      "correct=male     guess=female   name=Janos                         \n",
      "correct=male     guess=female   name=Jere                          \n",
      "correct=male     guess=female   name=Jess                          \n",
      "correct=male     guess=female   name=Jessee                        \n",
      "correct=male     guess=female   name=Jimbo                         \n",
      "correct=male     guess=female   name=Julie                         \n",
      "correct=male     guess=female   name=Justis                        \n",
      "correct=male     guess=female   name=Kenton                        \n",
      "correct=male     guess=female   name=Kimmo                         \n",
      "correct=male     guess=female   name=Kip                           \n",
      "correct=male     guess=female   name=Klaus                         \n",
      "correct=male     guess=female   name=Lazaro                        \n",
      "correct=male     guess=female   name=Lemar                         \n",
      "correct=male     guess=female   name=Leonid                        \n",
      "correct=male     guess=female   name=Les                           \n",
      "correct=male     guess=female   name=Lewis                         \n",
      "correct=male     guess=female   name=Lou                           \n",
      "correct=male     guess=female   name=Louie                         \n",
      "correct=male     guess=female   name=Lyn                           \n",
      "correct=male     guess=female   name=Mahmud                        \n",
      "correct=male     guess=female   name=Marc                          \n",
      "correct=male     guess=female   name=Marlin                        \n",
      "correct=male     guess=female   name=Marsh                         \n",
      "correct=male     guess=female   name=Marty                         \n",
      "correct=male     guess=female   name=Marv                          \n",
      "correct=male     guess=female   name=Marwin                        \n",
      "correct=male     guess=female   name=Maurie                        \n",
      "correct=male     guess=female   name=Maurits                       \n",
      "correct=male     guess=female   name=Meade                         \n",
      "correct=male     guess=female   name=Mic                           \n",
      "correct=male     guess=female   name=Mohammad                      \n",
      "correct=male     guess=female   name=Montgomery                    \n",
      "correct=male     guess=female   name=Morten                        \n",
      "correct=male     guess=female   name=Morton                        \n",
      "correct=male     guess=female   name=Neddie                        \n",
      "correct=male     guess=female   name=Neel                          \n",
      "correct=male     guess=female   name=Neville                       \n",
      "correct=male     guess=female   name=Nick                          \n",
      "correct=male     guess=female   name=Norman                        \n",
      "correct=male     guess=female   name=Olin                          \n",
      "correct=male     guess=female   name=Osmund                        \n",
      "correct=male     guess=female   name=Otho                          \n",
      "correct=male     guess=female   name=Paddy                         \n",
      "correct=male     guess=female   name=Paten                         \n",
      "correct=male     guess=female   name=Petey                         \n",
      "correct=male     guess=female   name=Prasad                        \n",
      "correct=male     guess=female   name=Prentice                      \n",
      "correct=male     guess=female   name=Quincey                       \n",
      "correct=male     guess=female   name=Quinton                       \n",
      "correct=male     guess=female   name=Rabi                          \n",
      "correct=male     guess=female   name=Ragnar                        \n",
      "correct=male     guess=female   name=Raul                          \n",
      "correct=male     guess=female   name=Robb                          \n",
      "correct=male     guess=female   name=Robinson                      \n",
      "correct=male     guess=female   name=Roddy                         \n",
      "correct=male     guess=female   name=Rog                           \n",
      "correct=male     guess=female   name=Roger                         \n",
      "correct=male     guess=female   name=Roy                           \n",
      "correct=male     guess=female   name=Russ                          \n",
      "correct=male     guess=female   name=Rusty                         \n",
      "correct=male     guess=female   name=Sebastien                     \n",
      "correct=male     guess=female   name=Seth                          \n",
      "correct=male     guess=female   name=Sheldon                       \n",
      "correct=male     guess=female   name=Si                            \n",
      "correct=male     guess=female   name=Simon                         \n",
      "correct=male     guess=female   name=Skip                          \n",
      "correct=male     guess=female   name=Skipper                       \n",
      "correct=male     guess=female   name=Skippie                       \n",
      "correct=male     guess=female   name=Spiro                         \n",
      "correct=male     guess=female   name=Spiros                        \n",
      "correct=male     guess=female   name=Stanly                        \n",
      "correct=male     guess=female   name=Steward                       \n",
      "correct=male     guess=female   name=Tabby                         \n",
      "correct=male     guess=female   name=Tadeas                        \n",
      "correct=male     guess=female   name=Talbert                       \n",
      "correct=male     guess=female   name=Tallie                        \n",
      "correct=male     guess=female   name=Tarzan                        \n",
      "correct=male     guess=female   name=Terencio                      \n",
      "correct=male     guess=female   name=Terry                         \n",
      "correct=male     guess=female   name=Thatcher                      \n",
      "correct=male     guess=female   name=Thedrick                      \n",
      "correct=male     guess=female   name=Thor                          \n",
      "correct=male     guess=female   name=Thorvald                      \n",
      "correct=male     guess=female   name=Thurston                      \n",
      "correct=male     guess=female   name=Tiebold                       \n",
      "correct=male     guess=female   name=Torrence                      \n",
      "correct=male     guess=female   name=Tracy                         \n",
      "correct=male     guess=female   name=Traver                        \n",
      "correct=male     guess=female   name=Uriah                         \n",
      "correct=male     guess=female   name=Uriel                         \n",
      "correct=male     guess=female   name=Vinny                         \n",
      "correct=male     guess=female   name=Virge                         \n",
      "correct=male     guess=female   name=Virgie                        \n",
      "correct=male     guess=female   name=Vladimir                      \n",
      "correct=male     guess=female   name=Wade                          \n",
      "correct=male     guess=female   name=Waine                         \n",
      "correct=male     guess=female   name=Waleed                        \n",
      "correct=male     guess=female   name=Wang                          \n",
      "correct=male     guess=female   name=Wendall                       \n",
      "correct=male     guess=female   name=Whittaker                     \n",
      "correct=male     guess=female   name=Wilek                         \n",
      "correct=male     guess=female   name=Wilfrid                       \n",
      "correct=male     guess=female   name=Willy                         \n",
      "correct=male     guess=female   name=Winslow                       \n",
      "correct=male     guess=female   name=Wittie                        \n",
      "correct=male     guess=female   name=Witty                         \n",
      "correct=male     guess=female   name=Woodie                        \n",
      "correct=male     guess=female   name=Woodrow                       \n",
      "correct=male     guess=female   name=Wyndham                       \n",
      "correct=male     guess=female   name=Ximenes                       \n",
      "correct=male     guess=female   name=Yale                          \n",
      "correct=male     guess=female   name=Yuri                          \n",
      "correct=male     guess=female   name=Zack                          \n",
      "correct=male     guess=female   name=Zorro                         \n"
     ]
    }
   ],
   "source": [
    "# print where the guesses were wrong\n",
    "train_names = names[0:500]\n",
    "devtest_names = names[500:1000]\n",
    "test_names = names[1000:]\n",
    "\n",
    "errors = []\n",
    "for (name, tag) in devtest_names:\n",
    "    guess = classifier.classify(gender_features(name))\n",
    "    if guess != tag:\n",
    "        errors.append( (tag, guess, name) )\n",
    "        \n",
    "for (tag, guess, name) in sorted(errors): # doctest: +ELLIPSIS +NORMALIZE_WHITESPACE\n",
    "    print 'correct=%-8s guess=%-8s name=%-30s' % (tag, guess, name)"
   ]
  },
  {
   "cell_type": "code",
   "execution_count": 10,
   "metadata": {
    "collapsed": true
   },
   "outputs": [],
   "source": [
    "# trying 2 letters instead of 1\n",
    "def gender_features(word):\n",
    "    return {'suffix1': word[-1:], 'suffix2': word[-2:]}"
   ]
  },
  {
   "cell_type": "code",
   "execution_count": 11,
   "metadata": {
    "collapsed": false
   },
   "outputs": [
    {
     "name": "stdout",
     "output_type": "stream",
     "text": [
      "0.742\n"
     ]
    }
   ],
   "source": [
    "# break into a training and test set (500, 500, remaining)... again with 2 letter def\n",
    "featuresets = [(gender_features(n), g) for (n,g) in names]\n",
    "train_set, dev_set, test_set = featuresets[0:500], featuresets[500:1000], featuresets[1000:]\n",
    "classifier = nltk.NaiveBayesClassifier.train(train_set)\n",
    "print nltk.classify.accuracy(classifier, dev_set)"
   ]
  },
  {
   "cell_type": "markdown",
   "metadata": {},
   "source": [
    "### Including 2 letters seemed to improve the accuracy, let's try with 3 letters instead."
   ]
  },
  {
   "cell_type": "code",
   "execution_count": 12,
   "metadata": {
    "collapsed": true
   },
   "outputs": [],
   "source": [
    "# the 2 letters didn't seem to help much, let's try 3 letters\n",
    "def gender_features(name):\n",
    "    features = {}\n",
    "    features[\"first1\"] = name[:1].lower()\n",
    "    features[\"first2\"] = name[:2].lower()\n",
    "    features[\"first3\"] = name[:3].lower()\n",
    "    features[\"last1\"] = name[-1:].lower()\n",
    "    features[\"last2\"] = name[-2:].lower()\n",
    "    features[\"last3\"] = name[-3:].lower()\n",
    "    for letter in 'abcdefghijklmnopqrstuvwxyz':\n",
    "        features[\"count(%s)\" % letter] = name.lower().count(letter)\n",
    "    return features"
   ]
  },
  {
   "cell_type": "code",
   "execution_count": 13,
   "metadata": {
    "collapsed": false
   },
   "outputs": [
    {
     "name": "stdout",
     "output_type": "stream",
     "text": [
      "0.758\n"
     ]
    }
   ],
   "source": [
    "# break into a training and test set (500, 500, remaining)... again with 3 letter def\n",
    "featuresets = [(gender_features(n), g) for (n,g) in names]\n",
    "train_set, dev_set, test_set = featuresets[0:500], featuresets[500:1000], featuresets[1000:]\n",
    "classifier = nltk.NaiveBayesClassifier.train(train_set)\n",
    "print nltk.classify.accuracy(classifier, dev_set)"
   ]
  },
  {
   "cell_type": "markdown",
   "metadata": {},
   "source": [
    "### There was further improvement with the inclusion of 3 letters at the start and finish, but what about vowel count?"
   ]
  },
  {
   "cell_type": "code",
   "execution_count": 14,
   "metadata": {
    "collapsed": true
   },
   "outputs": [],
   "source": [
    "def gender_features(name):\n",
    "    features = {}\n",
    "    features[\"first1\"] = name[:1].lower()\n",
    "    features[\"first2\"] = name[:2].lower()\n",
    "    features[\"first3\"] = name[:3].lower()\n",
    "    features[\"last1\"] = name[-1:].lower()\n",
    "    features[\"last2\"] = name[-2:].lower()\n",
    "    features[\"last3\"] = name[-3:].lower()\n",
    "    for letter in 'abcdefghijklmnopqrstuvwxyz':\n",
    "        features[\"count(%s)\" % letter] = name.lower().count(letter)\n",
    "    return features"
   ]
  },
  {
   "cell_type": "code",
   "execution_count": 25,
   "metadata": {
    "collapsed": true
   },
   "outputs": [],
   "source": [
    "import re\n",
    "\n",
    "def gender_features(name):\n",
    "    features = {}\n",
    "    features[\"first1\"] = name[:1].lower()\n",
    "    features[\"first2\"] = name[:2].lower()\n",
    "    features[\"first3\"] = name[:3].lower()\n",
    "    features[\"last1\"] = name[-1:].lower()\n",
    "    features[\"last2\"] = name[-2:].lower()\n",
    "    features[\"last3\"] = name[-3:].lower()\n",
    "    features[\"vowel_count\"] = len(re.findall(r'[aeiouy]', name))\n",
    "    for letter in 'abcdefghijklmnopqrstuvwxyz':\n",
    "        features[\"count(%s)\" % letter] = name.lower().count(letter)\n",
    "    return features"
   ]
  },
  {
   "cell_type": "code",
   "execution_count": 26,
   "metadata": {
    "collapsed": false
   },
   "outputs": [
    {
     "name": "stdout",
     "output_type": "stream",
     "text": [
      "0.762\n"
     ]
    }
   ],
   "source": [
    "# break into a training and test set (500, 500, remaining)... again with 3 letter def and vowel count\n",
    "featuresets = [(gender_features(n), g) for (n,g) in names]\n",
    "train_set, dev_set, test_set = featuresets[0:500], featuresets[500:1000], featuresets[1000:]\n",
    "classifier = nltk.NaiveBayesClassifier.train(train_set)\n",
    "print nltk.classify.accuracy(classifier, dev_set)"
   ]
  },
  {
   "cell_type": "markdown",
   "metadata": {},
   "source": [
    "### This raised the accuracy further. Maybe try more prefix and suffix letters along with it."
   ]
  },
  {
   "cell_type": "code",
   "execution_count": 29,
   "metadata": {
    "collapsed": true
   },
   "outputs": [],
   "source": [
    "def gender_features(name):\n",
    "    features = {}\n",
    "    features[\"first1\"] = name[:1].lower()\n",
    "    features[\"first2\"] = name[:2].lower()\n",
    "    features[\"first3\"] = name[:3].lower()\n",
    "    features[\"first4\"] = name[:4].lower()\n",
    "    features[\"last1\"] = name[-1:].lower()\n",
    "    features[\"last2\"] = name[-2:].lower()\n",
    "    features[\"last3\"] = name[-3:].lower()\n",
    "    features[\"last4\"] = name[-4:].lower()\n",
    "    for letter in 'abcdefghijklmnopqrstuvwxyz':\n",
    "        features[\"count(%s)\" % letter] = name.lower().count(letter)\n",
    "    return features"
   ]
  },
  {
   "cell_type": "code",
   "execution_count": 30,
   "metadata": {
    "collapsed": false
   },
   "outputs": [
    {
     "name": "stdout",
     "output_type": "stream",
     "text": [
      "0.752\n"
     ]
    }
   ],
   "source": [
    "# break into a training and test set (500, 500, remaining)... again with 3 letter def and vowel count\n",
    "featuresets = [(gender_features(n), g) for (n,g) in names]\n",
    "train_set, dev_set, test_set = featuresets[0:500], featuresets[500:1000], featuresets[1000:]\n",
    "classifier = nltk.NaiveBayesClassifier.train(train_set)\n",
    "print nltk.classify.accuracy(classifier, dev_set)"
   ]
  },
  {
   "cell_type": "markdown",
   "metadata": {},
   "source": [
    "### This is worse than just choosing 3 letters, moving away from that option. Let's include a has statement this time, but with 3 letters."
   ]
  },
  {
   "cell_type": "code",
   "execution_count": 31,
   "metadata": {
    "collapsed": false
   },
   "outputs": [],
   "source": [
    "def gender_features(name):\n",
    "    features = {}\n",
    "    features[\"first1\"] = name[:1].lower()\n",
    "    features[\"first2\"] = name[:2].lower()\n",
    "    features[\"first3\"] = name[:3].lower()\n",
    "    features[\"last1\"] = name[-1:].lower()\n",
    "    features[\"last2\"] = name[-2:].lower()\n",
    "    features[\"last3\"] = name[-3:].lower()\n",
    "    for letter in 'abcdefghijklmnopqrstuvwxyz':\n",
    "        features[\"count(%s)\" % letter] = name.lower().count(letter)\n",
    "        features[\"has(%s)\" % letter] = (letter in name.lower())\n",
    "    return features"
   ]
  },
  {
   "cell_type": "code",
   "execution_count": 32,
   "metadata": {
    "collapsed": false
   },
   "outputs": [
    {
     "name": "stdout",
     "output_type": "stream",
     "text": [
      "0.754\n"
     ]
    }
   ],
   "source": [
    "# break into a training and test set (500, 500, remaining)... again with 4 letter def and has\n",
    "featuresets = [(gender_features(n), g) for (n,g) in names]\n",
    "train_set, dev_set, test_set = featuresets[0:500], featuresets[500:1000], featuresets[1000:]\n",
    "classifier = nltk.NaiveBayesClassifier.train(train_set)\n",
    "print nltk.classify.accuracy(classifier, dev_set)"
   ]
  },
  {
   "cell_type": "markdown",
   "metadata": {},
   "source": [
    "### This is worse than not including a has statement. Let's try with a different type of classifier. In this case, a decision tree method."
   ]
  },
  {
   "cell_type": "code",
   "execution_count": 47,
   "metadata": {
    "collapsed": false
   },
   "outputs": [
    {
     "name": "stdout",
     "output_type": "stream",
     "text": [
      "0.616\n"
     ]
    }
   ],
   "source": [
    "featuresets = [(gender_features(n), g) for (n,g) in names]\n",
    "train_set, dev_set, test_set = featuresets[0:500], featuresets[500:1000], featuresets[1000:]\n",
    "classifier = nltk.DecisionTreeClassifier.train(train_set)\n",
    "print nltk.classify.accuracy(classifier, dev_set)"
   ]
  },
  {
   "cell_type": "markdown",
   "metadata": {},
   "source": [
    "### It seems worse than the naive bayes method by a fair amount. Maybe try something different than just letter sequences. Syllables seem to be a good route."
   ]
  },
  {
   "cell_type": "code",
   "execution_count": 42,
   "metadata": {
    "collapsed": false
   },
   "outputs": [],
   "source": [
    "# using a mix of sources, a seemingly standard way to do it\n",
    "def syllable_count(name):\n",
    "    count = 0\n",
    "    vowels = 'aeiouy'\n",
    "    if len(name) <= 3:\n",
    "        return 1\n",
    "    if name[0] in vowels:\n",
    "        count += 1\n",
    "    for i in range(1, len(name)):\n",
    "        if name[i] in vowels and name[i-1] not in vowels:\n",
    "            count += 1\n",
    "    if name.endswith('e'):\n",
    "        count -= 1\n",
    "    if name.endswith('le'):\n",
    "        count+=1\n",
    "    if name.endswith('bile'):\n",
    "            count -= 1\n",
    "    if count == 0:\n",
    "        count +=1\n",
    "    return count"
   ]
  },
  {
   "cell_type": "code",
   "execution_count": 43,
   "metadata": {
    "collapsed": true
   },
   "outputs": [],
   "source": [
    "def gender_features(name):\n",
    "    features = {}\n",
    "    features[\"first1\"] = name[:1].lower()\n",
    "    features[\"first2\"] = name[:2].lower()\n",
    "    features[\"first3\"] = name[:3].lower()\n",
    "    features[\"last1\"] = name[-1:].lower()\n",
    "    features[\"last2\"] = name[-2:].lower()\n",
    "    features[\"last3\"] = name[-3:].lower()\n",
    "    features[\"syl_count\"] = syllable_count(name)\n",
    "    for letter in 'abcdefghijklmnopqrstuvwxyz':\n",
    "        features[\"count(%s)\" % letter] = name.lower().count(letter)\n",
    "        features[\"has(%s)\" % letter] = (letter in name.lower())\n",
    "    return features"
   ]
  },
  {
   "cell_type": "code",
   "execution_count": 44,
   "metadata": {
    "collapsed": false
   },
   "outputs": [
    {
     "name": "stdout",
     "output_type": "stream",
     "text": [
      "0.752\n"
     ]
    }
   ],
   "source": [
    "# break into a training and test set (500, 500, remaining)... with 3 letters and syllable count\n",
    "featuresets = [(gender_features(n), g) for (n,g) in names]\n",
    "train_set, dev_set, test_set = featuresets[0:500], featuresets[500:1000], featuresets[1000:]\n",
    "classifier = nltk.NaiveBayesClassifier.train(train_set)\n",
    "print nltk.classify.accuracy(classifier, dev_set)"
   ]
  },
  {
   "cell_type": "markdown",
   "metadata": {},
   "source": [
    "### Unfortunately it's almost identical to before, maybe only 2 letters will give a better result."
   ]
  },
  {
   "cell_type": "code",
   "execution_count": 45,
   "metadata": {
    "collapsed": false
   },
   "outputs": [
    {
     "name": "stdout",
     "output_type": "stream",
     "text": [
      "0.744\n"
     ]
    }
   ],
   "source": [
    "def gender_features(name):\n",
    "    features = {}\n",
    "    features[\"first1\"] = name[:1].lower()\n",
    "    features[\"first2\"] = name[:2].lower()\n",
    "    features[\"last1\"] = name[-1:].lower()\n",
    "    features[\"last2\"] = name[-2:].lower()\n",
    "    features[\"syl_count\"] = syllable_count(name)\n",
    "    for letter in 'abcdefghijklmnopqrstuvwxyz':\n",
    "        features[\"count(%s)\" % letter] = name.lower().count(letter)\n",
    "        features[\"has(%s)\" % letter] = (letter in name.lower())\n",
    "    return features\n",
    "\n",
    "# break into a training and test set (500, 500, remaining)... with 2 letters and syllable count\n",
    "featuresets = [(gender_features(n), g) for (n,g) in names]\n",
    "train_set, dev_set, test_set = featuresets[0:500], featuresets[500:1000], featuresets[1000:]\n",
    "classifier = nltk.NaiveBayesClassifier.train(train_set)\n",
    "print nltk.classify.accuracy(classifier, dev_set)"
   ]
  },
  {
   "cell_type": "markdown",
   "metadata": {},
   "source": [
    "### Even worse! Back to 3 letters. And try the syllable method with a decision tree."
   ]
  },
  {
   "cell_type": "code",
   "execution_count": 48,
   "metadata": {
    "collapsed": false
   },
   "outputs": [
    {
     "name": "stdout",
     "output_type": "stream",
     "text": [
      "0.616\n"
     ]
    }
   ],
   "source": [
    "def gender_features(name):\n",
    "    features = {}\n",
    "    features[\"first1\"] = name[:1].lower()\n",
    "    features[\"first2\"] = name[:2].lower()\n",
    "    features[\"first3\"] = name[:3].lower()\n",
    "    features[\"last1\"] = name[-1:].lower()\n",
    "    features[\"last2\"] = name[-2:].lower()\n",
    "    features[\"last3\"] = name[-3:].lower()\n",
    "    features[\"syl_count\"] = syllable_count(name)\n",
    "    for letter in 'abcdefghijklmnopqrstuvwxyz':\n",
    "        features[\"count(%s)\" % letter] = name.lower().count(letter)\n",
    "        features[\"has(%s)\" % letter] = (letter in name.lower())\n",
    "    return features\n",
    "\n",
    "featuresets = [(gender_features(n), g) for (n,g) in names]\n",
    "train_set, dev_set, test_set = featuresets[0:500], featuresets[500:1000], featuresets[1000:]\n",
    "classifier = nltk.DecisionTreeClassifier.train(train_set)\n",
    "print nltk.classify.accuracy(classifier, dev_set)"
   ]
  },
  {
   "cell_type": "markdown",
   "metadata": {},
   "source": [
    "### Still awful in comparison, maybe some combo of first + last and syllables."
   ]
  },
  {
   "cell_type": "code",
   "execution_count": 58,
   "metadata": {
    "collapsed": false
   },
   "outputs": [
    {
     "name": "stdout",
     "output_type": "stream",
     "text": [
      "0.77\n"
     ]
    }
   ],
   "source": [
    "def gender_features(name):\n",
    "    features = {}\n",
    "    features[\"first1\"] = name[:1].lower()\n",
    "    features[\"last1\"] = name[-1:].lower()\n",
    "    features[\"last2\"] = name[-2:].lower()\n",
    "    features[\"syl_count\"] = syllable_count(name)\n",
    "    features[\"vowel_count\"] = len(re.findall(r'[aeiouy]', name))\n",
    "    for letter in 'abcdefghijklmnopqrstuvwxyz':\n",
    "        features[\"count(%s)\" % letter] = name.lower().count(letter)\n",
    "        features[\"has(%s)\" % letter] = (letter in name.lower())\n",
    "    return features\n",
    "\n",
    "featuresets = [(gender_features(n), g) for (n,g) in names]\n",
    "train_set, dev_set, test_set = featuresets[0:500], featuresets[500:1000], featuresets[1000:]\n",
    "classifier = nltk.NaiveBayesClassifier.train(train_set)\n",
    "print nltk.classify.accuracy(classifier, dev_set)"
   ]
  },
  {
   "cell_type": "markdown",
   "metadata": {},
   "source": [
    "### Some improvement, maybe check if the last or first letter is a vowel?"
   ]
  },
  {
   "cell_type": "code",
   "execution_count": 57,
   "metadata": {
    "collapsed": false
   },
   "outputs": [
    {
     "name": "stdout",
     "output_type": "stream",
     "text": [
      "0.764\n"
     ]
    }
   ],
   "source": [
    "def gender_features(name):\n",
    "    features = {}\n",
    "    features[\"first1\"] = name[:1].lower()\n",
    "    features[\"last1\"] = name[-1:].lower()\n",
    "    features[\"last2\"] = name[-2:].lower()\n",
    "    features[\"syl_count\"] = syllable_count(name)\n",
    "    features[\"vowel_last\"] = name[-1] in 'aeiouy'\n",
    "    features[\"vowel_first\"] = name[1] in 'aeiouy'\n",
    "    features[\"vowel_count\"] = len(re.findall(r'[aeiouy]', name))\n",
    "    for letter in 'abcdefghijklmnopqrstuvwxyz':\n",
    "        features[\"count(%s)\" % letter] = name.lower().count(letter)\n",
    "        features[\"has(%s)\" % letter] = (letter in name.lower())\n",
    "    return features\n",
    "\n",
    "featuresets = [(gender_features(n), g) for (n,g) in names]\n",
    "train_set, dev_set, test_set = featuresets[0:500], featuresets[500:1000], featuresets[1000:]\n",
    "classifier = nltk.NaiveBayesClassifier.train(train_set)\n",
    "print nltk.classify.accuracy(classifier, dev_set)"
   ]
  },
  {
   "cell_type": "markdown",
   "metadata": {},
   "source": [
    "### Worse, but not by much. Maybe some sort of transformation? Let's scramble the names."
   ]
  },
  {
   "cell_type": "code",
   "execution_count": 68,
   "metadata": {
    "collapsed": false
   },
   "outputs": [
    {
     "name": "stdout",
     "output_type": "stream",
     "text": [
      "0.664\n"
     ]
    }
   ],
   "source": [
    "def shuf(name):\n",
    "    name_list = list(name)\n",
    "    random.shuffle(name_list)\n",
    "    return ''.join(name_list)\n",
    "\n",
    "def gender_features(name):\n",
    "    features = {}\n",
    "    name = shuf(name)\n",
    "    features[\"first1\"] = name[:1].lower()\n",
    "    features[\"last1\"] = name[-1:].lower()\n",
    "    features[\"last2\"] = name[-2:].lower()\n",
    "    features[\"syl_count\"] = syllable_count(name)\n",
    "    features[\"vowel_count\"] = len(re.findall(r'[aeiouy]', name))\n",
    "    for letter in 'abcdefghijklmnopqrstuvwxyz':\n",
    "        features[\"count(%s)\" % letter] = name.lower().count(letter)\n",
    "        features[\"has(%s)\" % letter] = (letter in name.lower())\n",
    "    return features\n",
    "\n",
    "featuresets = [(gender_features(n), g) for (n,g) in names]\n",
    "train_set, dev_set, test_set = featuresets[0:500], featuresets[500:1000], featuresets[1000:]\n",
    "classifier = nltk.NaiveBayesClassifier.train(train_set)\n",
    "print nltk.classify.accuracy(classifier, dev_set)"
   ]
  },
  {
   "cell_type": "markdown",
   "metadata": {},
   "source": [
    "### Bad, as expected, but worth a shot. Maybe try switching a few letters."
   ]
  },
  {
   "cell_type": "code",
   "execution_count": 69,
   "metadata": {
    "collapsed": false
   },
   "outputs": [
    {
     "name": "stdout",
     "output_type": "stream",
     "text": [
      "0.736\n"
     ]
    }
   ],
   "source": [
    "def gender_features(name):\n",
    "    features = {}\n",
    "    name = name[-1:] + name[1:-1] + name[:1]\n",
    "    features[\"first1\"] = name[:1].lower()\n",
    "    features[\"last1\"] = name[-1:].lower()\n",
    "    features[\"last2\"] = name[-2:].lower()\n",
    "    features[\"syl_count\"] = syllable_count(name)\n",
    "    features[\"vowel_count\"] = len(re.findall(r'[aeiouy]', name))\n",
    "    for letter in 'abcdefghijklmnopqrstuvwxyz':\n",
    "        features[\"count(%s)\" % letter] = name.lower().count(letter)\n",
    "        features[\"has(%s)\" % letter] = (letter in name.lower())\n",
    "    return features\n",
    "\n",
    "featuresets = [(gender_features(n), g) for (n,g) in names]\n",
    "train_set, dev_set, test_set = featuresets[0:500], featuresets[500:1000], featuresets[1000:]\n",
    "classifier = nltk.NaiveBayesClassifier.train(train_set)\n",
    "print nltk.classify.accuracy(classifier, dev_set)"
   ]
  },
  {
   "cell_type": "markdown",
   "metadata": {},
   "source": [
    "### Seem's transformations are a bad idea as well. I'll stick with the method that included the first letter, last 2 letters, syllable count, and vowel count, as it was the best option of the bunch. Let's try it with the full test set."
   ]
  },
  {
   "cell_type": "code",
   "execution_count": 70,
   "metadata": {
    "collapsed": false
   },
   "outputs": [
    {
     "name": "stdout",
     "output_type": "stream",
     "text": [
      "0.762816820276\n"
     ]
    }
   ],
   "source": [
    "def gender_features(name):\n",
    "    features = {}\n",
    "    features[\"first1\"] = name[:1].lower()\n",
    "    features[\"last1\"] = name[-1:].lower()\n",
    "    features[\"last2\"] = name[-2:].lower()\n",
    "    features[\"syl_count\"] = syllable_count(name)\n",
    "    features[\"vowel_count\"] = len(re.findall(r'[aeiouy]', name))\n",
    "    for letter in 'abcdefghijklmnopqrstuvwxyz':\n",
    "        features[\"count(%s)\" % letter] = name.lower().count(letter)\n",
    "        features[\"has(%s)\" % letter] = (letter in name.lower())\n",
    "    return features\n",
    "\n",
    "featuresets = [(gender_features(n), g) for (n,g) in names]\n",
    "train_set, dev_set, test_set = featuresets[0:500], featuresets[500:1000], featuresets[1000:]\n",
    "classifier = nltk.NaiveBayesClassifier.train(train_set)\n",
    "print nltk.classify.accuracy(classifier, test_set)"
   ]
  },
  {
   "cell_type": "markdown",
   "metadata": {},
   "source": [
    "### It performed a little worse than I had hoped it would, but it could be due to the smaller training group size. I am also testing changes on the dev group, not the test group. Let's see what 50/50 split in training/testing does."
   ]
  },
  {
   "cell_type": "code",
   "execution_count": 76,
   "metadata": {
    "collapsed": false,
    "scrolled": true
   },
   "outputs": [
    {
     "name": "stdout",
     "output_type": "stream",
     "text": [
      "0.790821501014\n"
     ]
    }
   ],
   "source": [
    "def gender_features(name):\n",
    "    features = {}\n",
    "    features[\"first1\"] = name[:1].lower()\n",
    "    features[\"last1\"] = name[-1:].lower()\n",
    "    features[\"last2\"] = name[-2:].lower()\n",
    "    features[\"syl_count\"] = syllable_count(name)\n",
    "    features[\"vowel_count\"] = len(re.findall(r'[aeiouy]', name))\n",
    "    for letter in 'abcdefghijklmnopqrstuvwxyz':\n",
    "        features[\"count(%s)\" % letter] = name.lower().count(letter)\n",
    "        features[\"has(%s)\" % letter] = (letter in name.lower())\n",
    "    return features\n",
    "\n",
    "featuresets = [(gender_features(n), g) for (n,g) in names]\n",
    "train_set, test_set = featuresets[0:4000], featuresets[4000:]\n",
    "classifier = nltk.NaiveBayesClassifier.train(train_set)\n",
    "print nltk.classify.accuracy(classifier, test_set)"
   ]
  },
  {
   "cell_type": "markdown",
   "metadata": {},
   "source": [
    "### It seems that the larger training set helps to get a little better accuracy. In a better scenario, the data source for names would be much larger, which would mean a better training set, and more comprehensive testing. "
   ]
  }
 ],
 "metadata": {
  "kernelspec": {
   "display_name": "Python 2",
   "language": "python",
   "name": "python2"
  },
  "language_info": {
   "codemirror_mode": {
    "name": "ipython",
    "version": 2
   },
   "file_extension": ".py",
   "mimetype": "text/x-python",
   "name": "python",
   "nbconvert_exporter": "python",
   "pygments_lexer": "ipython2",
   "version": "2.7.11"
  }
 },
 "nbformat": 4,
 "nbformat_minor": 0
}
