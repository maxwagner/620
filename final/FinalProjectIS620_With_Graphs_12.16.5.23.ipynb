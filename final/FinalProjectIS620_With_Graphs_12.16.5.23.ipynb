{
 "cells": [
  {
   "cell_type": "markdown",
   "metadata": {},
   "source": [
    "# IS620 Final Project\n",
    "\n",
    "Data:  ~4200 pub med journals, including author affiliations.  The affiliations are not provided in a specified manner and are instead long 'strings'. \n",
    "\n",
    "Goal:  It is not clear, looking at the strings, how to distinguish institution names from department names and so on.  The goal here is to develop a machine learning algorithm which can pull institution names from the affiliations, such that a graph of schools which publish with each other might be generated.\n",
    "\n",
    "Results:  A decision tree was found to be most applicable.  The accuracy was ~92% with the test set.  However, this only tells part of the story; I labeled a training set of ~4000 samples, and some of these I mislabeled.  Thus, the machine learning had to properly assign labels that I had put in incorrectly!"
   ]
  },
  {
   "cell_type": "code",
   "execution_count": 1,
   "metadata": {
    "collapsed": true
   },
   "outputs": [],
   "source": [
    "%matplotlib inline\n",
    "import random\n",
    "import nltk\n",
    "import string\n",
    "import networkx as nx\n",
    "import io\n",
    "import matplotlib.pyplot as plt\n",
    "import pandas as pd"
   ]
  },
  {
   "cell_type": "markdown",
   "metadata": {},
   "source": [
    "### Here we open a file of downloaded journal articles including author names and affiliations."
   ]
  },
  {
   "cell_type": "code",
   "execution_count": 2,
   "metadata": {
    "collapsed": false
   },
   "outputs": [],
   "source": [
    "pubs = []\n",
    "with open('project2pubs.txt','r') as f:\n",
    "    for line in f:\n",
    "        pubs.append(line.split(']]'))"
   ]
  },
  {
   "cell_type": "markdown",
   "metadata": {},
   "source": [
    "### As you can see, the data is a mess."
   ]
  },
  {
   "cell_type": "code",
   "execution_count": 3,
   "metadata": {
    "collapsed": false
   },
   "outputs": [
    {
     "data": {
      "text/plain": [
       "[\"[['Ma Y', 'Zhang J', 'Yin W', 'Zhang Z', 'Song Y', 'Chang X'], ['Ma Y', 'Zhang J', 'Yin W', 'Zhang Z', 'Song Y', 'Chang X'], ['Ma Y', 'Zhang J', 'Yin W', 'Zhang Z', 'Song Y', 'Chang X'], ['Ma Y', 'Zhang J', 'Yin W', 'Zhang Z', 'Song Y', 'Chang X'], ['Ma Y', 'Zhang J', 'Yin W', 'Zhang Z', 'Song Y', 'Chang X'], ['Ma Y', 'Zhang J', 'Yin W', 'Zhang Z', 'Song Y', 'Chang X'\",\n",
       " ',Key Laboratory of Stem Cell Biology, Institute of Health Sciences, Shanghai Institutes for Biological Sciences &Shanghai Jiao Tong University School of Medicine (SJTUSM), Chinese Academy of Sciences, Shanghai, China. Key Laboratory of Stem Cell Biology, Institute of Health Sciences, Shanghai Institutes for Biological Sciences &Shanghai Jiao Tong University School of Medicine (SJTUSM), Chinese Academy of Sciences, Shanghai, China. Key Laboratory of Stem Cell Biology, Institute of Health Sciences, Shanghai Institutes for Biological Sciences &Shanghai Jiao Tong University School of Medicine (SJTUSM), Chinese Academy of Sciences, Shanghai, China. Key Laboratory of Stem Cell Biology, Institute of Health Sciences, Shanghai Institutes for Biological Sciences &Shanghai Jiao Tong University School of Medicine (SJTUSM), Chinese Academy of Sciences, Shanghai, China. Department of Cellular and Molecular Medicine, University of California at San Diego, La Jolla, La Jolla, California, USA. Key Laboratory of Stem Cell Biology, Institute of Health Sciences, Shanghai Institutes for Biological Sciences &Shanghai Jiao Tong University School of Medicine (SJTUSM), Chinese Academy of Sciences, Shanghai, China. Collaborative Innovation Center of Systems Biomedicine, Shanghai Jiao Tong University School of Medicine, Shanghai, China.,2016/10/11 06:00,Nat Methods,Nature methods\\n']"
      ]
     },
     "execution_count": 3,
     "metadata": {},
     "output_type": "execute_result"
    }
   ],
   "source": [
    "pubs[0]"
   ]
  },
  {
   "cell_type": "markdown",
   "metadata": {},
   "source": [
    "### The form of the strings in the files are a mess, and much effort is needed to clean it all up."
   ]
  },
  {
   "cell_type": "code",
   "execution_count": 4,
   "metadata": {
    "collapsed": false
   },
   "outputs": [
    {
     "data": {
      "text/plain": [
       "['Ma Y', 'Zhang J', 'Yin W', 'Zhang Z', 'Song Y', 'Chang X']"
      ]
     },
     "execution_count": 4,
     "metadata": {},
     "output_type": "execute_result"
    }
   ],
   "source": [
    "stringIn = \"string.with.punctuation!\"\n",
    "\n",
    "author = []\n",
    "for x in pubs:\n",
    "    if isinstance(x, list):\n",
    "        t = (x[0].translate(None, '!@#$][,').split(\"'\"))\n",
    "        temp = []\n",
    "        for x in t: \n",
    "            if x:\n",
    "                if x != \" \":\n",
    "                    if x not in temp:\n",
    "                       temp.append(x)\n",
    "        author.append(temp) \n",
    "    \n",
    "author[0]"
   ]
  },
  {
   "cell_type": "code",
   "execution_count": 5,
   "metadata": {
    "collapsed": false
   },
   "outputs": [
    {
     "data": {
      "text/plain": [
       "4215"
      ]
     },
     "execution_count": 5,
     "metadata": {},
     "output_type": "execute_result"
    }
   ],
   "source": [
    "len(author)"
   ]
  },
  {
   "cell_type": "code",
   "execution_count": 6,
   "metadata": {
    "collapsed": false
   },
   "outputs": [
    {
     "data": {
      "text/plain": [
       "4215"
      ]
     },
     "execution_count": 6,
     "metadata": {},
     "output_type": "execute_result"
    }
   ],
   "source": [
    "len(pubs)"
   ]
  },
  {
   "cell_type": "markdown",
   "metadata": {},
   "source": [
    "### The affiliation data is a mess.  Sometimes it is delimited with a period or semicolon, etc.  Here we split up each affiliation using a number of delimiters."
   ]
  },
  {
   "cell_type": "code",
   "execution_count": 7,
   "metadata": {
    "collapsed": false
   },
   "outputs": [],
   "source": [
    "splitcomma = []\n",
    "splitperiod = []\n",
    "splitsemicolon = []\n",
    "splitspace = []\n",
    "for x in pubs:\n",
    "    if len(x) > 1:\n",
    "        s = x[1]\n",
    "        s = s[:-1]\n",
    "        t = s.split(\",\")\n",
    "        if len(t)>2:\n",
    "            t = t[:-2]  # remove journal names\n",
    "        else:\n",
    "            t = \" \"\n",
    "        for x in range(0, len(t)):\n",
    "            if isinstance(t[x], str):\n",
    "                t[x] = str(t[x]).lstrip()\n",
    "                t[x] = str(t[x]).rstrip()\n",
    "        splitcomma.append(t)\n",
    "        t = s.split(\".\")\n",
    "        for x in range(0, len(t)):\n",
    "            if isinstance(t[x], str):\n",
    "                t[x] = str(t[x]).lstrip()\n",
    "                t[x] = str(t[x]).rstrip()\n",
    "        splitperiod.append(t)\n",
    "        t = s.split(\";\")\n",
    "        for x in range(0, len(t)):\n",
    "            if isinstance(t[x], str):\n",
    "                t[x] = str(t[x]).lstrip()\n",
    "                t[x] = str(t[x]).rstrip()\n",
    "        splitsemicolon.append(t)\n",
    "        t = s.split(\" \")\n",
    "        for x in range(0, len(t)):\n",
    "            if isinstance(t[x], str):\n",
    "                t[x] = str(t[x]).lstrip()\n",
    "                t[x] = str(t[x]).rstrip()\n",
    "        splitspace.append(t)\n",
    "    else:\n",
    "        splitcomma.append(\"\")\n",
    "        splitperiod.append(\"\")\n",
    "        splitsemicolon.append(\"\")\n",
    "        splitspace.append(\"\")"
   ]
  },
  {
   "cell_type": "code",
   "execution_count": 8,
   "metadata": {
    "collapsed": true
   },
   "outputs": [],
   "source": [
    "def stringHasPunct(s):\n",
    "    if not s:\n",
    "        return True\n",
    "    for x in string.punctuation:\n",
    "        if x in s:\n",
    "            return True\n",
    "    return False"
   ]
  },
  {
   "cell_type": "markdown",
   "metadata": {},
   "source": [
    "### Below we generate a list of all possible 'phrases' in the affiliation."
   ]
  },
  {
   "cell_type": "code",
   "execution_count": 9,
   "metadata": {
    "collapsed": false
   },
   "outputs": [],
   "source": [
    "listterms = []\n",
    "for x in range(0, len(splitcomma)):\n",
    "    temp = []\n",
    "    t = []\n",
    "    for y in splitcomma[x]:\n",
    "        if not stringHasPunct(y):\n",
    "            t.append(y)\n",
    "    temp.append(t)\n",
    "    t = []\n",
    "    for y in splitsemicolon[x]:\n",
    "        if not stringHasPunct(y):\n",
    "            t.append(y)\n",
    "    temp.append(t)\n",
    "    t = []\n",
    "    for y in splitperiod[x]:\n",
    "        if not stringHasPunct(y):\n",
    "            t.append(y)\n",
    "    temp.append(t)\n",
    "    listterms.append(temp)"
   ]
  },
  {
   "cell_type": "markdown",
   "metadata": {},
   "source": [
    "### Example affiliations are shown below.  The question is, can a machine learning classification determine which are institution names?"
   ]
  },
  {
   "cell_type": "code",
   "execution_count": 10,
   "metadata": {
    "collapsed": false
   },
   "outputs": [
    {
     "data": {
      "text/plain": [
       "[['Qinghai Provincial Key Laboratory for Plague Control and Research',\n",
       "  'Qinghai Institute for Endemic Disease Prevention and Control',\n",
       "  'Xining',\n",
       "  'Qinghai Province',\n",
       "  '811602',\n",
       "  'Fengtai',\n",
       "  'Beijing',\n",
       "  '100071',\n",
       "  'Qinghai Institute for Endemic Disease Prevention and Control',\n",
       "  'Xining',\n",
       "  'Qinghai Province',\n",
       "  '811602',\n",
       "  'Fengtai',\n",
       "  'Beijing',\n",
       "  '100071'],\n",
       " [],\n",
       " ['com']]"
      ]
     },
     "execution_count": 10,
     "metadata": {},
     "output_type": "execute_result"
    }
   ],
   "source": [
    "listterms[2]"
   ]
  },
  {
   "cell_type": "markdown",
   "metadata": {},
   "source": [
    "### Here all the phrases are saved to a csv.  Some of the phrases are labeled in the csv file in order to train the system."
   ]
  },
  {
   "cell_type": "code",
   "execution_count": 11,
   "metadata": {
    "collapsed": false
   },
   "outputs": [],
   "source": [
    "f = open('labelAffiliations.txt','w')\n",
    "for x in listterms:\n",
    "    for y in x:\n",
    "        for z in y:\n",
    "            f.write(str(z) + '\\n') \n",
    "f.close() "
   ]
  },
  {
   "cell_type": "markdown",
   "metadata": {},
   "source": [
    "### In excel, >4000 'phrases' were marked as belonging to an institution or not.  Most of these were just zip codes and such, so easy to mark."
   ]
  },
  {
   "cell_type": "code",
   "execution_count": 12,
   "metadata": {
    "collapsed": false
   },
   "outputs": [],
   "source": [
    "phrase = []\n",
    "label = []\n",
    "with open('labelAffiliations.csv') as f:\n",
    "    for line in f:\n",
    "        line = line.rstrip()\n",
    "        line = line.split(\",\")\n",
    "        if len(line) >1 and line[1]:\n",
    "            phrase.append(line[0])\n",
    "            label.append(line[1])      "
   ]
  },
  {
   "cell_type": "code",
   "execution_count": 13,
   "metadata": {
    "collapsed": false
   },
   "outputs": [
    {
     "data": {
      "text/plain": [
       "4866"
      ]
     },
     "execution_count": 13,
     "metadata": {},
     "output_type": "execute_result"
    }
   ],
   "source": [
    "len(label)"
   ]
  },
  {
   "cell_type": "markdown",
   "metadata": {},
   "source": [
    "### Here we get all words used in any labeled affiliation."
   ]
  },
  {
   "cell_type": "code",
   "execution_count": 14,
   "metadata": {
    "collapsed": false
   },
   "outputs": [],
   "source": [
    "words = []\n",
    "for x in phrase:\n",
    "    x = x.split(\" \")\n",
    "    for y in x:\n",
    "        words.append(y)"
   ]
  },
  {
   "cell_type": "code",
   "execution_count": 15,
   "metadata": {
    "collapsed": false
   },
   "outputs": [
    {
     "data": {
      "text/plain": [
       "15304"
      ]
     },
     "execution_count": 15,
     "metadata": {},
     "output_type": "execute_result"
    }
   ],
   "source": [
    "len(words)"
   ]
  },
  {
   "cell_type": "markdown",
   "metadata": {},
   "source": [
    "### Here we look at the top 200 words."
   ]
  },
  {
   "cell_type": "code",
   "execution_count": 16,
   "metadata": {
    "collapsed": true
   },
   "outputs": [],
   "source": [
    "all_words = nltk.FreqDist(words)\n",
    "top100 = all_words.most_common(50)"
   ]
  },
  {
   "cell_type": "code",
   "execution_count": 17,
   "metadata": {
    "collapsed": false
   },
   "outputs": [],
   "source": [
    "word_feature = []\n",
    "for x in top100:\n",
    "    word_feature.append(x[0])"
   ]
  },
  {
   "cell_type": "code",
   "execution_count": 18,
   "metadata": {
    "collapsed": false
   },
   "outputs": [
    {
     "data": {
      "text/plain": [
       "['of',\n",
       " 'and',\n",
       " 'Department',\n",
       " 'for',\n",
       " 'Center',\n",
       " 'Biology',\n",
       " 'University',\n",
       " 'Institute',\n",
       " 'Research',\n",
       " 'Sciences',\n",
       " 'Medicine',\n",
       " 'Division',\n",
       " 'Science',\n",
       " 'Molecular',\n",
       " 'Cell',\n",
       " 'Medical',\n",
       " 'Centre',\n",
       " 'College',\n",
       " 'Cancer',\n",
       " 'Street',\n",
       " 'de',\n",
       " 'Genetics',\n",
       " 'Laboratory',\n",
       " 'Road',\n",
       " 'Engineering',\n",
       " 'Avenue',\n",
       " 'National',\n",
       " 'in',\n",
       " 'Beijing',\n",
       " 'Microbiology',\n",
       " 'Technology',\n",
       " 'New',\n",
       " 'Health',\n",
       " 'Biological',\n",
       " 'Biotechnology',\n",
       " 'Drive',\n",
       " 'School',\n",
       " 'China',\n",
       " 'CA',\n",
       " 'Cambridge',\n",
       " 'Biochemistry',\n",
       " 'Biol',\n",
       " 'a',\n",
       " 'the',\n",
       " 'York',\n",
       " 'Life',\n",
       " 'Diseases',\n",
       " 'California',\n",
       " '1',\n",
       " 'Biomedical']"
      ]
     },
     "execution_count": 18,
     "metadata": {},
     "output_type": "execute_result"
    }
   ],
   "source": [
    "word_feature"
   ]
  },
  {
   "cell_type": "code",
   "execution_count": 19,
   "metadata": {
    "collapsed": false
   },
   "outputs": [
    {
     "data": {
      "text/plain": [
       "[['Key Laboratory of Stem Cell Biology',\n",
       "  'Institute of Health Sciences',\n",
       "  'Chinese Academy of Sciences',\n",
       "  'Shanghai',\n",
       "  'Institute of Health Sciences',\n",
       "  'Chinese Academy of Sciences',\n",
       "  'Shanghai',\n",
       "  'Institute of Health Sciences',\n",
       "  'Chinese Academy of Sciences',\n",
       "  'Shanghai',\n",
       "  'Institute of Health Sciences',\n",
       "  'Chinese Academy of Sciences',\n",
       "  'Shanghai',\n",
       "  'University of California at San Diego',\n",
       "  'La Jolla',\n",
       "  'La Jolla',\n",
       "  'California',\n",
       "  'Institute of Health Sciences',\n",
       "  'Chinese Academy of Sciences',\n",
       "  'Shanghai',\n",
       "  'Shanghai Jiao Tong University School of Medicine',\n",
       "  'Shanghai'],\n",
       " [],\n",
       " []]"
      ]
     },
     "execution_count": 19,
     "metadata": {},
     "output_type": "execute_result"
    }
   ],
   "source": [
    "listterms[0]"
   ]
  },
  {
   "cell_type": "markdown",
   "metadata": {},
   "source": [
    "### Here we define the features we want to look at.  "
   ]
  },
  {
   "cell_type": "code",
   "execution_count": 20,
   "metadata": {
    "collapsed": false
   },
   "outputs": [],
   "source": [
    "def getContentIndex(listterms_x, phrase):\n",
    "    '''What affiliation does a phrase occur in bearing in mind that the \n",
    "    phrases were labeled free of any context?  Now we need to figure out \n",
    "    which affiliation each phrase came from.'''\n",
    "    for x in listterms_x: ## x is a list ['ewfew', 'wefew' ]\n",
    "        if phrase in x:\n",
    "            return x.index(phrase), x\n",
    "    else:\n",
    "        return False, False\n",
    "\n",
    "def hasNumber(word):\n",
    "    for x in word:\n",
    "        if is_number(x):\n",
    "            return True\n",
    "    return False\n",
    "\n",
    "def is_number(s):\n",
    "    try:\n",
    "        float(s)\n",
    "        return True\n",
    "    except ValueError:\n",
    "        return False\n",
    "    \n",
    "def firstWordisCapital(x):\n",
    "    fl = x[0]\n",
    "    if is_number(fl):\n",
    "        return False\n",
    "    if fl == fl.upper():\n",
    "        return True\n",
    "    return False\n",
    "\n",
    "def ratioOfCaptialLetters(phrase):\n",
    "    p = phrase.split()\n",
    "    c = 0\n",
    "    for x in p:\n",
    "        for y in x:\n",
    "            if not is_number(y):\n",
    "                if y == y.upper():\n",
    "                    c += 1\n",
    "    if len(p) != 0:\n",
    "        r = c/float(len(p))\n",
    "    else:\n",
    "        r = 0\n",
    "    return int(r*10)\n",
    "\n",
    "def numberOfWords(phrase):\n",
    "    p = phrase.split()\n",
    "    return int(len(p)/2)\n",
    "\n",
    "def oneWord(phrase):\n",
    "    p = phrase.split()\n",
    "    if len(p) == 1:\n",
    "        return True\n",
    "    else:\n",
    "        return False\n",
    "    \n",
    "def totalLen(phrase):\n",
    "    return int(len(phrase)/10)"
   ]
  },
  {
   "cell_type": "code",
   "execution_count": 21,
   "metadata": {
    "collapsed": false
   },
   "outputs": [],
   "source": [
    "for word in word_feature:\n",
    "        (word in set())"
   ]
  },
  {
   "cell_type": "code",
   "execution_count": 23,
   "metadata": {
    "collapsed": false
   },
   "outputs": [],
   "source": [
    "def document_features_old(context, phrase, word_feature):\n",
    "    doci, i = getContentIndex(context, phrase)\n",
    "    \n",
    "    context = context[i]\n",
    "    document_words = set(phrase.split())\n",
    "    features = {}\n",
    "    \n",
    "    for word in word_feature:\n",
    "        features['contains(%s)' % word] = (word in document_words)\n",
    "    features['isnumeric'] = is_number(phrase)\n",
    "    features['hasANumberInIt'] = hasNumber(phrase)\n",
    "    features['firstLetterCapital'] = firstWordisCapital(phrase)\n",
    "    features['ratioOfCaptialLetters'] = ratioOfCaptialLetters(phrase)\n",
    "    features['numberOfWords'] = numberOfWords(phrase)\n",
    "    features['startsWithNumber'] = is_number(phrase[0])\n",
    "    features['totalLength'] = totalLen(phrase)\n",
    "    features['oneWord'] = oneWord(phrase)\n",
    "    \n",
    "    if doci != 0:\n",
    "        phrasebefore = context[doci-1]\n",
    "        document_words = set(phrasebefore)\n",
    "        features['isnumericBefore'] = is_number(phrasebefore)\n",
    "        features['hasANumberInItBefore'] = hasNumber(phrasebefore)\n",
    "        features['firstLetterCapitalBefore'] = firstWordisCapital(phrasebefore)\n",
    "        features['ratioOfCaptialLettersBefore'] = ratioOfCaptialLetters(phrasebefore)\n",
    "        features['numberOfWordsBefore'] = numberOfWords(phrasebefore)\n",
    "        features['startsWithNumberBefore'] = is_number(phrasebefore[0])\n",
    "        features['totalLengthBefore'] = totalLen(phrasebefore)\n",
    "        features['oneWordBefore'] = oneWord(phrasebefore)   \n",
    "    \n",
    "    if doci + 1 < len(context):\n",
    "        phraseafter = context[doci+1]\n",
    "        document_words = set(phraseafter)\n",
    "        features['isnumericAfter'] = is_number(phraseafter)\n",
    "        features['hasANumberInItAfter'] = hasNumber(phraseafter)\n",
    "        features['firstLetterCapitalAfter'] = firstWordisCapital(phraseafter)\n",
    "        features['ratioOfCaptialLettersAfter'] = ratioOfCaptialLetters(phraseafter)\n",
    "        features['numberOfWordsAfter'] = numberOfWords(phraseafter)\n",
    "        features['startsWithNumberAfter'] = is_number(phraseafter[0])\n",
    "        features['totalLengthAfter'] = totalLen(phraseafter)\n",
    "        features['oneWordAfter'] = oneWord(phraseafter)\n",
    "        \n",
    "    if doci + 2 < len(context):\n",
    "        phraseafter = context[doci+2]\n",
    "        document_words = set(phraseafter)\n",
    "        features['isnumericAfter2'] = is_number(phraseafter)\n",
    "        features['hasANumberInItAfter2'] = hasNumber(phraseafter)\n",
    "        features['firstLetterCapitalAfter2'] = firstWordisCapital(phraseafter)\n",
    "        features['ratioOfCaptialLettersAfter2'] = ratioOfCaptialLetters(phraseafter)\n",
    "        features['numberOfWordsAfter2'] = numberOfWords(phrase)\n",
    "        features['totalLengthAfter2'] = totalLen(phraseafter)\n",
    "        features['oneWordAfter2'] = oneWord(phraseafter)\n",
    "        \n",
    "    if doci + 3 < len(context):\n",
    "        phraseafter = context[doci+3]\n",
    "        document_words = set(phraseafter)\n",
    "        features['isnumericAfter3'] = is_number(phraseafter)\n",
    "        features['hasANumberInItAfter3'] = hasNumber(phraseafter)\n",
    "        features['firstLetterCapitalAfter3'] = firstWordisCapital(phraseafter)\n",
    "        features['ratioOfCaptialLettersAfter3'] = ratioOfCaptialLetters(phraseafter)\n",
    "        features['numberOfWordsAfter3'] = numberOfWords(phraseafter)\n",
    "        features['totalLengthAfter3'] = totalLen(phraseafter)\n",
    "        \n",
    "    return features"
   ]
  },
  {
   "cell_type": "code",
   "execution_count": 24,
   "metadata": {
    "collapsed": true
   },
   "outputs": [],
   "source": [
    "def document_features(context, phrase, word_feature):\n",
    "    ## context is the 'listterms' which is a list of 3 lists\n",
    "\n",
    "    doci, context = getContentIndex(context, phrase)\n",
    "    document_words = set(phrase.split())\n",
    "    features = {}\n",
    "    for word in word_feature:\n",
    "        features['contains(%s)' % word] = (word in document_words)\n",
    "    features['isnumeric'] = is_number(phrase)\n",
    "    features['hasANumberInIt'] = hasNumber(phrase)\n",
    "    features['firstLetterCapital'] = firstWordisCapital(phrase)\n",
    "    features['ratioOfCaptialLetters'] = ratioOfCaptialLetters(phrase)\n",
    "    features['numberOfWords'] = numberOfWords(phrase)\n",
    "    features['startsWithNumber'] = is_number(phrase[0])\n",
    "    features['totalLength'] = totalLen(phrase)\n",
    "    features['oneWord'] = oneWord(phrase)\n",
    "    \n",
    "    if doci != 0:\n",
    "        phrasebefore = context[doci-1]\n",
    "        document_words = set(phrasebefore.split())\n",
    "        features['isnumericBefore'] = is_number(phrasebefore)\n",
    "        features['hasANumberInItBefore'] = hasNumber(phrasebefore)\n",
    "        features['firstLetterCapitalBefore'] = firstWordisCapital(phrasebefore)\n",
    "        features['ratioOfCaptialLettersBefore'] = ratioOfCaptialLetters(phrasebefore)\n",
    "        features['numberOfWordsBefore'] = numberOfWords(phrasebefore)\n",
    "        features['startsWithNumberBefore'] = is_number(phrasebefore[0])\n",
    "        features['totalLengthBefore'] = totalLen(phrasebefore)\n",
    "        features['oneWordBefore'] = oneWord(phrasebefore)\n",
    "        \n",
    "    if doci + 1 < len(context):\n",
    "        phraseafter = context[doci+1]\n",
    "        document_words = set(phraseafter.split())\n",
    "        features['isnumericAfter'] = is_number(phraseafter)\n",
    "        features['hasANumberInItAfter'] = hasNumber(phraseafter)\n",
    "        features['firstLetterCapitalAfter'] = firstWordisCapital(phraseafter)\n",
    "        features['ratioOfCaptialLettersAfter'] = ratioOfCaptialLetters(phraseafter)\n",
    "        features['numberOfWordsAfter'] = numberOfWords(phraseafter)\n",
    "        features['startsWithNumberAfter'] = is_number(phraseafter[0])\n",
    "        features['totalLengthAfter'] = totalLen(phraseafter)\n",
    "        features['oneWordAfter'] = oneWord(phraseafter)\n",
    "        \n",
    "    return features"
   ]
  },
  {
   "cell_type": "code",
   "execution_count": 25,
   "metadata": {
    "collapsed": true
   },
   "outputs": [],
   "source": [
    "def document_features(context, phrase, word_feature):\n",
    "    ## context is the 'listterms' which is a list of 3 lists\n",
    "\n",
    "    document_words = set(phrase.split())\n",
    "    features = {}\n",
    "    for word in word_feature:\n",
    "        features['contains(%s)' % word] = (word in document_words)\n",
    "    features['isnumeric'] = is_number(phrase)\n",
    "    features['hasANumberInIt'] = hasNumber(phrase)\n",
    "    features['firstLetterCapital'] = firstWordisCapital(phrase)\n",
    "    features['ratioOfCaptialLetters'] = ratioOfCaptialLetters(phrase)\n",
    "    features['numberOfWords'] = numberOfWords(phrase)\n",
    "    features['startsWithNumber'] = is_number(phrase[0])\n",
    "    features['totalLength'] = totalLen(phrase)\n",
    "    features['oneWord'] = oneWord(phrase)\n",
    "    return features"
   ]
  },
  {
   "cell_type": "code",
   "execution_count": 26,
   "metadata": {
    "collapsed": true
   },
   "outputs": [],
   "source": [
    "d_phrases = {}\n",
    "for x in range(0, len(phrase)):\n",
    "    d_phrases[phrase[x]] = label[x]"
   ]
  },
  {
   "cell_type": "code",
   "execution_count": 27,
   "metadata": {
    "collapsed": false
   },
   "outputs": [
    {
     "data": {
      "text/plain": [
       "4177"
      ]
     },
     "execution_count": 27,
     "metadata": {},
     "output_type": "execute_result"
    }
   ],
   "source": [
    "random.shuffle(listterms)\n",
    "len(d_phrases)"
   ]
  },
  {
   "cell_type": "code",
   "execution_count": 28,
   "metadata": {
    "collapsed": false
   },
   "outputs": [
    {
     "data": {
      "text/plain": [
       "[['Massachusetts Institute of Technology',\n",
       "  'Cambridge',\n",
       "  'MA 02139',\n",
       "  'Massachusetts Institute of Technology',\n",
       "  'Cambridge',\n",
       "  'MA 02139',\n",
       "  'Massachusetts Institute of Technology',\n",
       "  'Cambridge',\n",
       "  'MA 02139',\n",
       "  'Massachusetts Institute of Technology',\n",
       "  'Cambridge',\n",
       "  'MA 02139',\n",
       "  'Massachusetts Institute of Technology',\n",
       "  'Cambridge',\n",
       "  'MA 02139'],\n",
       " [],\n",
       " ['David H']]"
      ]
     },
     "execution_count": 28,
     "metadata": {},
     "output_type": "execute_result"
    }
   ],
   "source": [
    "listterms[0] ## each list has 3 lists (split by comma, semicolon, etc...)"
   ]
  },
  {
   "cell_type": "code",
   "execution_count": 29,
   "metadata": {
    "collapsed": false
   },
   "outputs": [],
   "source": [
    "featuresets = []\n",
    "phrasesLookedUp = []\n",
    "for x in listterms:\n",
    "    for y in x:\n",
    "        for z in y:\n",
    "            if z in d_phrases:\n",
    "                featuresets.append([document_features(x, z, word_feature), d_phrases[z]]) \n",
    "                phrasesLookedUp.append(z)"
   ]
  },
  {
   "cell_type": "code",
   "execution_count": 30,
   "metadata": {
    "collapsed": false
   },
   "outputs": [],
   "source": [
    "train_set, test_set = featuresets[2500:], featuresets[:2500]\n",
    "classifier = nltk.NaiveBayesClassifier.train(train_set)"
   ]
  },
  {
   "cell_type": "markdown",
   "metadata": {},
   "source": [
    "### Here we check the accuracy of the classifier."
   ]
  },
  {
   "cell_type": "code",
   "execution_count": 34,
   "metadata": {
    "collapsed": false
   },
   "outputs": [
    {
     "name": "stdout",
     "output_type": "stream",
     "text": [
      "0.952\n"
     ]
    }
   ],
   "source": [
    "print nltk.classify.accuracy(classifier, test_set)"
   ]
  },
  {
   "cell_type": "markdown",
   "metadata": {},
   "source": [
    "### About 92% of the test set are not institution names.  At first this seems like bad news, but look at the errors below."
   ]
  },
  {
   "cell_type": "code",
   "execution_count": 35,
   "metadata": {
    "collapsed": false
   },
   "outputs": [
    {
     "data": {
      "text/plain": [
       "0.8992"
      ]
     },
     "execution_count": 35,
     "metadata": {},
     "output_type": "execute_result"
    }
   ],
   "source": [
    "c = 0\n",
    "for x in test_set:\n",
    "    if x[1] == 's':\n",
    "        c += 1\n",
    "1-float(c)/len(test_set)"
   ]
  },
  {
   "cell_type": "code",
   "execution_count": 36,
   "metadata": {
    "collapsed": false
   },
   "outputs": [
    {
     "name": "stdout",
     "output_type": "stream",
     "text": [
      "Most Informative Features\n",
      "      contains(Sciences) = True                g : s      =     81.0 : 1.0\n",
      "   ratioOfCaptialLetters = 6                   g : s      =     75.8 : 1.0\n",
      "       contains(Biology) = True                g : s      =     62.5 : 1.0\n",
      "    contains(Technology) = True                s : g      =     37.8 : 1.0\n",
      "    contains(University) = True                s : g      =     23.2 : 1.0\n",
      "           numberOfWords = 4                   g : s      =     21.9 : 1.0\n",
      "             totalLength = 6                   g : s      =     18.3 : 1.0\n",
      "           contains(for) = True                g : s      =     14.6 : 1.0\n",
      "        contains(School) = True                s : g      =     12.5 : 1.0\n",
      "        contains(Health) = True                s : g      =     11.8 : 1.0\n",
      "          contains(Life) = True                g : s      =     10.8 : 1.0\n",
      "      contains(Research) = True                g : s      =     10.5 : 1.0\n",
      "   ratioOfCaptialLetters = 17                  s : g      =      9.3 : 1.0\n",
      "      contains(National) = True                s : g      =      9.2 : 1.0\n",
      "       contains(Science) = True                g : s      =      8.3 : 1.0\n",
      "           contains(and) = True                g : s      =      8.3 : 1.0\n",
      "     contains(Institute) = True                s : g      =      7.9 : 1.0\n",
      "        contains(Centre) = True                g : s      =      7.7 : 1.0\n",
      "     contains(Molecular) = True                g : s      =      6.2 : 1.0\n",
      "             totalLength = 3                   s : g      =      5.4 : 1.0\n",
      "    contains(California) = True                g : s      =      4.5 : 1.0\n",
      "       contains(Medical) = True                s : g      =      3.9 : 1.0\n",
      "         contains(China) = True                s : g      =      3.5 : 1.0\n",
      "             totalLength = 4                   g : s      =      3.2 : 1.0\n",
      "       contains(College) = True                g : s      =      2.9 : 1.0\n",
      "   ratioOfCaptialLetters = 7                   s : g      =      2.8 : 1.0\n",
      "           numberOfWords = 2                   s : g      =      2.7 : 1.0\n",
      "           contains(New) = True                g : s      =      2.5 : 1.0\n",
      "             totalLength = 1                   g : s      =      2.1 : 1.0\n",
      "          contains(York) = True                g : s      =      2.1 : 1.0\n"
     ]
    }
   ],
   "source": [
    "classifier.show_most_informative_features(30)"
   ]
  },
  {
   "cell_type": "code",
   "execution_count": 37,
   "metadata": {
    "collapsed": false
   },
   "outputs": [],
   "source": [
    "errors = []\n",
    "i = 0\n",
    "for (name, tag) in test_set:\n",
    "    guess = classifier.classify(name)\n",
    "    phrase1 = phrasesLookedUp[i]\n",
    "    if guess != tag:\n",
    "        errors.append( (tag, guess, phrase1) )\n",
    "    i += 1"
   ]
  },
  {
   "cell_type": "markdown",
   "metadata": {},
   "source": [
    "### The main errors appear to be mis-labeled as instituions by hand, but the classifier has correctly labeled them.  However, the classifier likes to label cities as schools, despite their being a single word."
   ]
  },
  {
   "cell_type": "code",
   "execution_count": 186,
   "metadata": {
    "collapsed": false
   },
   "outputs": [
    {
     "data": {
      "text/plain": [
       "[('g', 's', 'Arizona State University'),\n",
       " ('g', 's', 'Beijing University of Technology'),\n",
       " ('g', 's', 'College of Veterinary Medicine'),\n",
       " ('g', 's', 'Asan Medical Center'),\n",
       " ('g', 's', 'New Mexico Institute of Mining and Technology Socorro'),\n",
       " ('g', 's', 'Broad Institute of MIT and Harvard'),\n",
       " ('g', 's', 'China Shanghai Institute of Pharmaceutical Industry'),\n",
       " ('g', 's', 'Akita University'),\n",
       " ('g', 's', 'Consiglio Nazionale delle Ricerche'),\n",
       " ('g', 's', 'Biomolecular Networks Laboratories'),\n",
       " ('g', 's', 'Biologie des Bacteries Intracellulaires'),\n",
       " ('g', 's', 'Agricultural Technology Research Institute'),\n",
       " ('s', 'g', 'Berkeley'),\n",
       " ('s', 'g', 'Mayo Clinic'),\n",
       " ('s', 'g', 'New York Medical College'),\n",
       " ('g', 's', 'Comenius University in Bratislava'),\n",
       " ('g', 's', 'Charite University Medicine'),\n",
       " ('g', 's', 'Botanical Institute II'),\n",
       " ('g', 's', 'Dalhousie University'),\n",
       " ('g', 's', 'Baylor College of Medicine'),\n",
       " ('g', 's', 'Bloomberg School of Public Health'),\n",
       " ('g', 's', 'DuPont Nutrition and Health'),\n",
       " ('g', 's', 'National Institute of Health'),\n",
       " ('g', 's', 'Broad Institute of MIT and Harvard University'),\n",
       " ('g', 's', 'National Institute of Genetics')]"
      ]
     },
     "execution_count": 186,
     "metadata": {},
     "output_type": "execute_result"
    }
   ],
   "source": [
    "list(set(errors))"
   ]
  },
  {
   "cell_type": "markdown",
   "metadata": {
    "collapsed": true
   },
   "source": [
    "### Here we check to see what is marked as an institution."
   ]
  },
  {
   "cell_type": "code",
   "execution_count": 187,
   "metadata": {
    "collapsed": true
   },
   "outputs": [],
   "source": [
    "sguess = []\n",
    "i = 0\n",
    "for (name, tag) in test_set:\n",
    "    guess = classifier.classify(name)\n",
    "    phrase2 = phrasesLookedUp[i]\n",
    "    if tag == 's':\n",
    "        sguess.append( (tag, guess, phrase2) )\n",
    "    i += 1"
   ]
  },
  {
   "cell_type": "markdown",
   "metadata": {},
   "source": [
    "### Lets see how a decision tree classifier performs."
   ]
  },
  {
   "cell_type": "code",
   "execution_count": 188,
   "metadata": {
    "collapsed": false
   },
   "outputs": [],
   "source": [
    "classifier_dt = nltk.classify.DecisionTreeClassifier.train(train_set)"
   ]
  },
  {
   "cell_type": "markdown",
   "metadata": {},
   "source": [
    "### This error rate looks a bit better than for the Bayes."
   ]
  },
  {
   "cell_type": "code",
   "execution_count": 189,
   "metadata": {
    "collapsed": false
   },
   "outputs": [
    {
     "name": "stdout",
     "output_type": "stream",
     "text": [
      "0.9548\n"
     ]
    }
   ],
   "source": [
    "print nltk.classify.accuracy(classifier_dt, test_set)"
   ]
  },
  {
   "cell_type": "markdown",
   "metadata": {},
   "source": [
    "### There are a lot of reasonable corrections to the assignments, so the classifier is doing a better job.  Plus, there are no cities being named as institutions.  "
   ]
  },
  {
   "cell_type": "code",
   "execution_count": 190,
   "metadata": {
    "collapsed": false
   },
   "outputs": [
    {
     "data": {
      "text/plain": [
       "[('g', 's', 'Arizona State University'),\n",
       " ('g', 's', 'Beijing University of Technology'),\n",
       " ('g', 's', 'College of Veterinary Medicine'),\n",
       " ('g', 's', 'Asan Medical Center'),\n",
       " ('g', 's', 'New Mexico Institute of Mining and Technology Socorro'),\n",
       " ('g', 's', 'Broad Institute of MIT and Harvard'),\n",
       " ('g', 's', 'China Shanghai Institute of Pharmaceutical Industry'),\n",
       " ('g', 's', 'Akita University'),\n",
       " ('g', 's', 'Consiglio Nazionale delle Ricerche'),\n",
       " ('g', 's', 'Biomolecular Networks Laboratories'),\n",
       " ('g', 's', 'Biologie des Bacteries Intracellulaires'),\n",
       " ('g', 's', 'Agricultural Technology Research Institute'),\n",
       " ('s', 'g', 'Berkeley'),\n",
       " ('s', 'g', 'Mayo Clinic'),\n",
       " ('s', 'g', 'New York Medical College'),\n",
       " ('g', 's', 'Comenius University in Bratislava'),\n",
       " ('g', 's', 'Charite University Medicine'),\n",
       " ('g', 's', 'Botanical Institute II'),\n",
       " ('g', 's', 'Dalhousie University'),\n",
       " ('g', 's', 'Baylor College of Medicine'),\n",
       " ('g', 's', 'Bloomberg School of Public Health'),\n",
       " ('g', 's', 'DuPont Nutrition and Health'),\n",
       " ('g', 's', 'National Institute of Health'),\n",
       " ('g', 's', 'Broad Institute of MIT and Harvard University'),\n",
       " ('g', 's', 'National Institute of Genetics')]"
      ]
     },
     "execution_count": 190,
     "metadata": {},
     "output_type": "execute_result"
    }
   ],
   "source": [
    "errors = []\n",
    "i = 0\n",
    "for (name, tag) in test_set:\n",
    "    guess = classifier.classify(name)\n",
    "    phrase3 = phrasesLookedUp[i]\n",
    "    if guess != tag:\n",
    "        errors.append( (tag, guess, phrase3) )\n",
    "    i += 1\n",
    "\n",
    "list(set(errors))"
   ]
  },
  {
   "cell_type": "markdown",
   "metadata": {
    "collapsed": true
   },
   "source": [
    "### At this point, it appears that the decision tree is better."
   ]
  },
  {
   "cell_type": "code",
   "execution_count": 192,
   "metadata": {
    "collapsed": true
   },
   "outputs": [],
   "source": [
    "def splitIntoPhrases(affiliation):\n",
    "    '''This long function is needed to take each affiliation string and break it down into all its \n",
    "    possible delimited pieces and then take those and convert them to a list of 'phrases' (one or more \n",
    "    of these phrases being a possible institution name).'''\n",
    "    \n",
    "    splitcomma = []\n",
    "    splitperiod = []\n",
    "    splitsemicolon = []\n",
    "    splitspace = []\n",
    "    \n",
    "    if len(affiliation) > 1:\n",
    "        #print (x)\n",
    "        s = affiliation[1]\n",
    "        s = s[:-1]\n",
    "        \n",
    "        t = s.split(\",\")\n",
    "        if len(t)>2:\n",
    "            t = t[:-2]  # remove journal names\n",
    "        else:\n",
    "            t = \" \"\n",
    "        for x in range(0, len(t)):\n",
    "            if isinstance(t[x], str):\n",
    "                t[x] = str(t[x]).lstrip()\n",
    "                t[x] = str(t[x]).rstrip()\n",
    "        splitcomma.append(t)\n",
    "        t = s.split(\".\")\n",
    "        for x in range(0, len(t)):\n",
    "            if isinstance(t[x], str):\n",
    "                t[x] = str(t[x]).lstrip()\n",
    "                t[x] = str(t[x]).rstrip()\n",
    "        splitperiod.append(t)\n",
    "        t = s.split(\";\")\n",
    "        for x in range(0, len(t)):\n",
    "            if isinstance(t[x], str):\n",
    "                t[x] = str(t[x]).lstrip()\n",
    "                t[x] = str(t[x]).rstrip()\n",
    "        splitsemicolon.append(t)\n",
    "        t = s.split(\" \")\n",
    "        for x in range(0, len(t)):\n",
    "            if isinstance(t[x], str):\n",
    "                t[x] = str(t[x]).lstrip()\n",
    "                t[x] = str(t[x]).rstrip()\n",
    "        splitspace.append(t)\n",
    "    else:\n",
    "        splitcomma.append(\"\")\n",
    "        splitperiod.append(\"\")\n",
    "        splitsemicolon.append(\"\")\n",
    "        splitspace.append(\"\")  ## not used\n",
    "    listterms = []\n",
    "    \n",
    "    for x in range(0, len(splitcomma)):\n",
    "        temp = []\n",
    "        t = []\n",
    "        for y in splitcomma[x]:\n",
    "            if not stringHasPunct(y):\n",
    "                t.append(y)\n",
    "        temp.append(t)\n",
    "        t = []\n",
    "        for y in splitsemicolon[x]:\n",
    "            if not stringHasPunct(y):\n",
    "                t.append(y)\n",
    "        temp.append(t)\n",
    "        t = []\n",
    "        for y in splitperiod[x]:\n",
    "            if not stringHasPunct(y):\n",
    "                t.append(y)\n",
    "        temp.append(t)\n",
    "        listterms.append(temp)\n",
    "    return listterms"
   ]
  },
  {
   "cell_type": "markdown",
   "metadata": {},
   "source": [
    "### Here we train on the full set of labeled data."
   ]
  },
  {
   "cell_type": "code",
   "execution_count": 193,
   "metadata": {
    "collapsed": false
   },
   "outputs": [],
   "source": [
    "classifier = nltk.NaiveBayesClassifier.train(featuresets)\n",
    "classifier_dt = nltk.classify.DecisionTreeClassifier.train(featuresets)"
   ]
  },
  {
   "cell_type": "code",
   "execution_count": 194,
   "metadata": {
    "collapsed": false
   },
   "outputs": [],
   "source": [
    "c = 0\n",
    "predictions = []\n",
    "for x in pubs:\n",
    "    listphrases = splitIntoPhrases(x)\n",
    "    t = []\n",
    "    for i in listphrases:\n",
    "        for j in i:\n",
    "            for k in j:\n",
    "                p = classifier_dt.classify(document_features(x, k, word_feature))\n",
    "                if p == 's':  \n",
    "                    t.append(k)\n",
    "                else:\n",
    "                    t.append('NA')\n",
    "    predictions.append(t)\n",
    "    c += 1"
   ]
  },
  {
   "cell_type": "code",
   "execution_count": 195,
   "metadata": {
    "collapsed": false
   },
   "outputs": [],
   "source": [
    "affiliations = []\n",
    "for x in predictions:\n",
    "    affiliations.append(list(set(x)))"
   ]
  },
  {
   "cell_type": "code",
   "execution_count": 196,
   "metadata": {
    "collapsed": true
   },
   "outputs": [],
   "source": [
    "for x in affiliations:\n",
    "    if 'NA' in x:\n",
    "        x.remove('NA')"
   ]
  },
  {
   "cell_type": "code",
   "execution_count": 197,
   "metadata": {
    "collapsed": false
   },
   "outputs": [
    {
     "data": {
      "text/plain": [
       "[['Shanghai Jiao Tong University School of Medicine',\n",
       "  'University of California at San Diego'],\n",
       " [],\n",
       " [],\n",
       " ['University of Pennsylvania Perelman School of Medicine',\n",
       "  'Michigan State University',\n",
       "  'Kawasaki Medical School',\n",
       "  'Graduate School of Medicine',\n",
       "  'Kyoto University'],\n",
       " [],\n",
       " ['Creighton University'],\n",
       " ['Wageningen University', 'Faculty of Medicine University of Helsinki'],\n",
       " [],\n",
       " ['Tamagawa University', 'The University of Tokyo'],\n",
       " ['University of Turku and Abo Academy']]"
      ]
     },
     "execution_count": 197,
     "metadata": {},
     "output_type": "execute_result"
    }
   ],
   "source": [
    "affiliations[:10]"
   ]
  },
  {
   "cell_type": "code",
   "execution_count": 198,
   "metadata": {
    "collapsed": false
   },
   "outputs": [],
   "source": [
    "g1 = []\n",
    "for x in affiliations:\n",
    "    if len(x)>1:\n",
    "        for i in range(0, len(x)):\n",
    "            for j in range(i+1, len(x)):\n",
    "                g1.append([x[i], x[j]])"
   ]
  },
  {
   "cell_type": "markdown",
   "metadata": {},
   "source": [
    "### Here we save the undirected graph nodes."
   ]
  },
  {
   "cell_type": "code",
   "execution_count": 199,
   "metadata": {
    "collapsed": false
   },
   "outputs": [],
   "source": [
    "f = open('IS620Project3.csv','w')\n",
    "for x in g1:\n",
    "    f.write(str(x[0]) + \",\" +  str(x[1]) + '\\n') \n",
    "f.close() "
   ]
  },
  {
   "cell_type": "markdown",
   "metadata": {},
   "source": [
    "###  Here we will analyse the resulting graph.  We create the full graph by reading the 'IS620Project3.csv' file into an nx graph."
   ]
  },
  {
   "cell_type": "code",
   "execution_count": null,
   "metadata": {
    "collapsed": true
   },
   "outputs": [],
   "source": [
    "G = nx.read_edgelist('IS620Project3.csv', delimiter=',', nodetype=str)"
   ]
  },
  {
   "cell_type": "markdown",
   "metadata": {},
   "source": [
    "### Here we display the first few edges."
   ]
  },
  {
   "cell_type": "code",
   "execution_count": 200,
   "metadata": {
    "collapsed": false
   },
   "outputs": [
    {
     "data": {
      "text/plain": [
       "[('Michigan Technological University', 'Shenzhen University'),\n",
       " ('Michigan Technological University', 'Gautam Buddha University'),\n",
       " ('Michigan Technological University', 'Henan Agricultural University'),\n",
       " ('ShanghaiTech University', 'Third Military Medical University'),\n",
       " ('ShanghaiTech University', 'Seoul National University'),\n",
       " ('ShanghaiTech University', 'Yulin University'),\n",
       " ('ShanghaiTech University', 'Nanjing Medical University'),\n",
       " ('ShanghaiTech University', 'National Institutes of Health'),\n",
       " ('ShanghaiTech University', 'University of Chinese Academy of Sciences'),\n",
       " ('ShanghaiTech University',\n",
       "  'Model Animal Research Center of Nanjing University'),\n",
       " ('ShanghaiTech University',\n",
       "  'Shanghai University of Traditional Chinese Medicine'),\n",
       " ('ShanghaiTech University', 'Nanjing University'),\n",
       " ('Tokushima University Graduate School', 'Osaka University'),\n",
       " ('Tokushima University Graduate School',\n",
       "  'Graduate School of Frontier Biosciences'),\n",
       " ('Tokushima University Graduate School', 'Nihon University'),\n",
       " ('Tokushima University Graduate School', 'Tokushima University'),\n",
       " ('Dankook University', 'National Institutes of Health'),\n",
       " ('The University of Georgia', 'Vanderbilt University'),\n",
       " ('Nagasaki University', 'Graduate School of Medicine')]"
      ]
     },
     "execution_count": 200,
     "metadata": {},
     "output_type": "execute_result"
    }
   ],
   "source": [
    "G.edges()[1:20]"
   ]
  },
  {
   "cell_type": "markdown",
   "metadata": {},
   "source": [
    "### Here we display the number of nodes."
   ]
  },
  {
   "cell_type": "code",
   "execution_count": 201,
   "metadata": {
    "collapsed": false
   },
   "outputs": [
    {
     "data": {
      "text/plain": [
       "576"
      ]
     },
     "execution_count": 201,
     "metadata": {},
     "output_type": "execute_result"
    }
   ],
   "source": [
    "len(G.nodes())"
   ]
  },
  {
   "cell_type": "markdown",
   "metadata": {},
   "source": [
    "### Here we draw the raw graph. Notice the heavily connected subgraph in the middle. The rest of the sub-graphs are scattered around that sub-graph. Most of these smaller sub-graphs have less than 3 nodes each.  We will be interested in subgraphs that have good connectivity (>25 nodes).  It seems like there is one very well connected sub-graph in  the center.  The rest of the sub-graphs have very few nodes. We will investigate this further."
   ]
  },
  {
   "cell_type": "code",
   "execution_count": 202,
   "metadata": {
    "collapsed": false
   },
   "outputs": [
    {
     "data": {
      "image/png": "[encoded data removed]",
      "text/plain": [
       "<matplotlib.figure.Figure at 0x129179490>"
      ]
     },
     "metadata": {},
     "output_type": "display_data"
    }
   ],
   "source": [
    "nx.draw_spring(G, with_labels=False, node_size=14)"
   ]
  },
  {
   "cell_type": "markdown",
   "metadata": {},
   "source": [
    "### Here we display the number of sub-graphs."
   ]
  },
  {
   "cell_type": "code",
   "execution_count": 203,
   "metadata": {
    "collapsed": false
   },
   "outputs": [
    {
     "data": {
      "text/plain": [
       "45"
      ]
     },
     "execution_count": 203,
     "metadata": {},
     "output_type": "execute_result"
    }
   ],
   "source": [
    "nx.number_connected_components(G)"
   ]
  },
  {
   "cell_type": "markdown",
   "metadata": {},
   "source": [
    "### Here we get the sub graphs"
   ]
  },
  {
   "cell_type": "code",
   "execution_count": null,
   "metadata": {
    "collapsed": true
   },
   "outputs": [],
   "source": [
    "graphs = list(nx.connected_component_subgraphs(G))"
   ]
  },
  {
   "cell_type": "markdown",
   "metadata": {},
   "source": [
    "### Here we display the number of edges in each sub-graph. Notice that the 2nd sub-graph (index 1) has many more edges. This is the one that is of most interest. We will analyze this subgraph. The other graphs have very few edges (less than 3)."
   ]
  },
  {
   "cell_type": "code",
   "execution_count": 204,
   "metadata": {
    "collapsed": false
   },
   "outputs": [
    {
     "name": "stdout",
     "output_type": "stream",
     "text": [
      "1\n",
      "1048\n",
      "2\n",
      "1\n",
      "1\n",
      "1\n",
      "5\n",
      "2\n",
      "1\n",
      "3\n",
      "1\n",
      "1\n",
      "1\n",
      "1\n",
      "3\n",
      "3\n",
      "1\n",
      "3\n",
      "3\n",
      "3\n",
      "1\n",
      "2\n",
      "3\n",
      "3\n",
      "3\n",
      "1\n",
      "1\n",
      "1\n",
      "1\n",
      "1\n",
      "1\n",
      "1\n",
      "1\n",
      "1\n",
      "1\n",
      "1\n",
      "1\n",
      "1\n",
      "1\n",
      "1\n",
      "1\n",
      "1\n",
      "1\n",
      "1\n",
      "1\n"
     ]
    }
   ],
   "source": [
    "for graph in graphs:\n",
    "    print(graph.number_of_edges())"
   ]
  },
  {
   "cell_type": "markdown",
   "metadata": {},
   "source": [
    "### We will now output the diameter for each sub-graph. Note that the he 2nd sub-graph (index 1) has the largest diameter.  This confirms that the 2nd sub-graph is the one that is most connected."
   ]
  },
  {
   "cell_type": "code",
   "execution_count": 205,
   "metadata": {
    "collapsed": false
   },
   "outputs": [
    {
     "name": "stdout",
     "output_type": "stream",
     "text": [
      "1\n",
      "11\n",
      "2\n",
      "1\n",
      "1\n",
      "1\n",
      "2\n",
      "2\n",
      "1\n",
      "1\n",
      "1\n",
      "1\n",
      "1\n",
      "1\n",
      "1\n",
      "1\n",
      "1\n",
      "3\n",
      "1\n",
      "3\n",
      "1\n",
      "2\n",
      "1\n",
      "1\n",
      "1\n",
      "1\n",
      "1\n",
      "1\n",
      "1\n",
      "1\n",
      "1\n",
      "1\n",
      "1\n",
      "1\n",
      "1\n",
      "1\n",
      "1\n",
      "1\n",
      "1\n",
      "1\n",
      "1\n",
      "1\n",
      "1\n",
      "1\n",
      "1\n"
     ]
    }
   ],
   "source": [
    "for i in range(0,len(graphs)):\n",
    "    print nx.diameter(graphs[i]) "
   ]
  },
  {
   "cell_type": "markdown",
   "metadata": {},
   "source": [
    "### We will now display some of the edges of the 2nd sub-graph in the list. "
   ]
  },
  {
   "cell_type": "code",
   "execution_count": 206,
   "metadata": {
    "collapsed": false
   },
   "outputs": [
    {
     "data": {
      "text/plain": [
       "[('Michigan Technological University', 'Shenzhen University'),\n",
       " ('Michigan Technological University', 'Gautam Buddha University'),\n",
       " ('Michigan Technological University', 'Henan Agricultural University'),\n",
       " ('ShanghaiTech University', 'Third Military Medical University'),\n",
       " ('ShanghaiTech University', 'Seoul National University'),\n",
       " ('ShanghaiTech University', 'Yulin University'),\n",
       " ('ShanghaiTech University', 'Nanjing Medical University'),\n",
       " ('ShanghaiTech University', 'National Institutes of Health'),\n",
       " ('ShanghaiTech University', 'University of Chinese Academy of Sciences'),\n",
       " ('ShanghaiTech University',\n",
       "  'Model Animal Research Center of Nanjing University')]"
      ]
     },
     "execution_count": 206,
     "metadata": {},
     "output_type": "execute_result"
    }
   ],
   "source": [
    "graphs[1].edges()[0:10]"
   ]
  },
  {
   "cell_type": "markdown",
   "metadata": {},
   "source": [
    "### We will now draw the 2nd sub-graph (index 1 in python). This looks very well connected."
   ]
  },
  {
   "cell_type": "code",
   "execution_count": 207,
   "metadata": {
    "collapsed": false
   },
   "outputs": [
    {
     "data": {
      "image/png": "[encoded data removed]",
      "text/plain": [
       "<matplotlib.figure.Figure at 0x1196e5090>"
      ]
     },
     "metadata": {},
     "output_type": "display_data"
    }
   ],
   "source": [
    "nx.draw_spring(graphs[1], with_labels=False, node_size=21)"
   ]
  },
  {
   "cell_type": "markdown",
   "metadata": {
    "collapsed": false
   },
   "source": [
    "### We will be calculating a few metrics on the graph: Diameter, Eccentricity and Closeness centrality.  The diameter of a graph is the length of the longest chain you are forced to use to get from one vertex to another in that graph."
   ]
  },
  {
   "cell_type": "markdown",
   "metadata": {},
   "source": [
    "### The maximum distance between a vertex to all other vertices is considered as the eccentricity of vertex.  From the Histogram below we can observe that the  eccentricity values are approximately normally distributed. This is in line with what we could expect in real-life connections."
   ]
  },
  {
   "cell_type": "code",
   "execution_count": 209,
   "metadata": {
    "collapsed": false
   },
   "outputs": [
    {
     "data": {
      "image/png": "[encoded data removed]",
      "text/plain": [
       "<matplotlib.figure.Figure at 0x11c36e1d0>"
      ]
     },
     "metadata": {},
     "output_type": "display_data"
    }
   ],
   "source": [
    "eccentricity = nx.eccentricity(graphs[1])\n",
    "eccentricity_vals = eccentricity.values()\n",
    "plt.hist(eccentricity.values(),bins=15);\n",
    "plt.title(\"Gaussian Histogram of the eccentricity\");\n",
    "plt.xlabel(\"Value\");\n",
    "plt.ylabel(\"Frequency\");"
   ]
  },
  {
   "cell_type": "markdown",
   "metadata": {},
   "source": [
    "### Closeness centrality is defined as the inverse of farness, which in turn, is the sum of distances to all other nodes.  We can see that the centrality measure is also normally distributed."
   ]
  },
  {
   "cell_type": "code",
   "execution_count": 210,
   "metadata": {
    "collapsed": false
   },
   "outputs": [
    {
     "data": {
      "image/png": "[encoded data removed]",
      "text/plain": [
       "<matplotlib.figure.Figure at 0x1295af4d0>"
      ]
     },
     "metadata": {},
     "output_type": "display_data"
    }
   ],
   "source": [
    "close_cent = nx.closeness_centrality(graphs[1])\n",
    "close_cent_vals = close_cent.values()\n",
    "plt.hist(close_cent_vals,bins=15);\n",
    "plt.title(\"Gaussian Histogram of the centrality\");\n",
    "plt.xlabel(\"Value\");\n",
    "plt.ylabel(\"Frequency\");"
   ]
  },
  {
   "cell_type": "markdown",
   "metadata": {
    "collapsed": false
   },
   "source": [
    "### We plot the number of nodes as a function of degree. The node degree is the number of edges adjacent to that node.  We see that the number of nodes decreases rapidly as the degree increases.  The nodes are fairly well dispersed.  So there is fairly well distributed connectivity between the institutions."
   ]
  },
  {
   "cell_type": "code",
   "execution_count": 211,
   "metadata": {
    "collapsed": false
   },
   "outputs": [
    {
     "data": {
      "image/png": "[encoded data removed]",
      "text/plain": [
       "<matplotlib.figure.Figure at 0x12918eb50>"
      ]
     },
     "metadata": {},
     "output_type": "display_data"
    }
   ],
   "source": [
    "degrees = graphs[1].degree()\n",
    "values = sorted(set(degrees.values()))\n",
    "hist = [degrees.values().count(x) for x in values]\n",
    "plt.figure();\n",
    "plt.plot(values,hist,'ro-'); \n",
    "plt.legend(['degree']); \n",
    "plt.xlabel('Degree');\n",
    "plt.ylabel('Number of nodes'); \n",
    "plt.title('Institutional Connectivity.');"
   ]
  }
 ],
 "metadata": {
  "anaconda-cloud": {},
  "kernelspec": {
   "display_name": "Python [conda root]",
   "language": "python",
   "name": "conda-root-py"
  },
  "language_info": {
   "codemirror_mode": {
    "name": "ipython",
    "version": 2
   },
   "file_extension": ".py",
   "mimetype": "text/x-python",
   "name": "python",
   "nbconvert_exporter": "python",
   "pygments_lexer": "ipython2",
   "version": "2.7.12"
  }
 },
 "nbformat": 4,
 "nbformat_minor": 0
}
