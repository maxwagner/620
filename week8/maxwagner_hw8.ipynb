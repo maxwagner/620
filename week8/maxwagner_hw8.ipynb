{
 "cells": [
  {
   "cell_type": "markdown",
   "metadata": {},
   "source": [
    "## Max Wagner\n",
    "## Week 8 - Data 620"
   ]
  },
  {
   "cell_type": "markdown",
   "metadata": {},
   "source": [
    "### 1. The project will be using the 'carroll-alice.txt' file"
   ]
  },
  {
   "cell_type": "code",
   "execution_count": 1,
   "metadata": {
    "collapsed": false
   },
   "outputs": [
    {
     "data": {
      "text/plain": [
       "[u'austen-emma.txt',\n",
       " u'austen-persuasion.txt',\n",
       " u'austen-sense.txt',\n",
       " u'bible-kjv.txt',\n",
       " u'blake-poems.txt',\n",
       " u'bryant-stories.txt',\n",
       " u'burgess-busterbrown.txt',\n",
       " u'carroll-alice.txt',\n",
       " u'chesterton-ball.txt',\n",
       " u'chesterton-brown.txt',\n",
       " u'chesterton-thursday.txt',\n",
       " u'edgeworth-parents.txt',\n",
       " u'melville-moby_dick.txt',\n",
       " u'milton-paradise.txt',\n",
       " u'shakespeare-caesar.txt',\n",
       " u'shakespeare-hamlet.txt',\n",
       " u'shakespeare-macbeth.txt',\n",
       " u'whitman-leaves.txt']"
      ]
     },
     "execution_count": 1,
     "metadata": {},
     "output_type": "execute_result"
    }
   ],
   "source": [
    "from nltk.corpus import gutenberg as gb\n",
    "from nltk.corpus import stopwords as sw\n",
    "import nltk\n",
    "import matplotlib.pyplot as plt\n",
    "%matplotlib inline\n",
    "import pandas as pd\n",
    "gb.fileids()"
   ]
  },
  {
   "cell_type": "markdown",
   "metadata": {},
   "source": [
    "### 2. Load in the corpus, strip stop words, numbers, punctuation, and anything else that seems unwise to keep."
   ]
  },
  {
   "cell_type": "code",
   "execution_count": 2,
   "metadata": {
    "collapsed": true
   },
   "outputs": [],
   "source": [
    "carroll = gb.words('carroll-alice.txt')"
   ]
  },
  {
   "cell_type": "code",
   "execution_count": 3,
   "metadata": {
    "collapsed": false
   },
   "outputs": [],
   "source": [
    "# rem stopwords\n",
    "sw_cache = sw.words(\"english\") # cache for better speed\n",
    "carroll_fix = [word for word in carroll if word not in sw_cache]"
   ]
  },
  {
   "cell_type": "code",
   "execution_count": 4,
   "metadata": {
    "collapsed": false
   },
   "outputs": [
    {
     "data": {
      "text/plain": [
       "34110"
      ]
     },
     "execution_count": 4,
     "metadata": {},
     "output_type": "execute_result"
    }
   ],
   "source": [
    "# check lens of both to make sure it worked\n",
    "len(carroll)"
   ]
  },
  {
   "cell_type": "code",
   "execution_count": 5,
   "metadata": {
    "collapsed": false
   },
   "outputs": [
    {
     "data": {
      "text/plain": [
       "20722"
      ]
     },
     "execution_count": 5,
     "metadata": {},
     "output_type": "execute_result"
    }
   ],
   "source": [
    "len(carroll_fix)"
   ]
  },
  {
   "cell_type": "code",
   "execution_count": 6,
   "metadata": {
    "collapsed": true
   },
   "outputs": [],
   "source": [
    "# seems ok, now remove numbers/punctuation\n",
    "carroll_fix2 = [word for word in carroll_fix if word.isalpha()]"
   ]
  },
  {
   "cell_type": "code",
   "execution_count": 7,
   "metadata": {
    "collapsed": false
   },
   "outputs": [
    {
     "data": {
      "text/plain": [
       "13945"
      ]
     },
     "execution_count": 7,
     "metadata": {},
     "output_type": "execute_result"
    }
   ],
   "source": [
    "# check lens of the new fix\n",
    "len(carroll_fix2)"
   ]
  },
  {
   "cell_type": "code",
   "execution_count": 8,
   "metadata": {
    "collapsed": true
   },
   "outputs": [],
   "source": [
    "# finally make it all lowercase\n",
    "carroll_fin = [word.lower() for word in carroll_fix2]"
   ]
  },
  {
   "cell_type": "code",
   "execution_count": 9,
   "metadata": {
    "collapsed": false
   },
   "outputs": [
    {
     "data": {
      "text/plain": [
       "2524"
      ]
     },
     "execution_count": 9,
     "metadata": {},
     "output_type": "execute_result"
    }
   ],
   "source": [
    "# and now find the uniques!\n",
    "len(set(carroll_fin))"
   ]
  },
  {
   "cell_type": "markdown",
   "metadata": {},
   "source": [
    "### 3. How many words make up half the total words?"
   ]
  },
  {
   "cell_type": "code",
   "execution_count": 10,
   "metadata": {
    "collapsed": false
   },
   "outputs": [
    {
     "data": {
      "text/plain": [
       "6972"
      ]
     },
     "execution_count": 10,
     "metadata": {},
     "output_type": "execute_result"
    }
   ],
   "source": [
    "# need to aim for half the length\n",
    "half_length = len(carroll_fin)/2\n",
    "half_length"
   ]
  },
  {
   "cell_type": "code",
   "execution_count": 11,
   "metadata": {
    "collapsed": true
   },
   "outputs": [],
   "source": [
    "# do some of the work for part 4 here as well\n",
    "carroll_f = nltk.FreqDist(carroll_fin)\n",
    "carroll_common = carroll_f.most_common()"
   ]
  },
  {
   "cell_type": "code",
   "execution_count": 12,
   "metadata": {
    "collapsed": false
   },
   "outputs": [
    {
     "data": {
      "text/plain": [
       "163"
      ]
     },
     "execution_count": 12,
     "metadata": {},
     "output_type": "execute_result"
    }
   ],
   "source": [
    "# find how many common words it takes to get to the halfway point\n",
    "i = 0\n",
    "half_words = 0\n",
    "for word in carroll_common:\n",
    "    if i >= half_length:\n",
    "        break\n",
    "    else:\n",
    "        i = i + word[1]\n",
    "        half_words = half_words + 1\n",
    "        \n",
    "half_words"
   ]
  },
  {
   "cell_type": "code",
   "execution_count": 13,
   "metadata": {
    "collapsed": false
   },
   "outputs": [
    {
     "data": {
      "text/html": [
       "<div>\n",
       "<table border=\"1\" class=\"dataframe\">\n",
       "  <thead>\n",
       "    <tr style=\"text-align: right;\">\n",
       "      <th></th>\n",
       "      <th>Word</th>\n",
       "      <th>Count</th>\n",
       "      <th>Cum_Sum</th>\n",
       "      <th>Cum_Percent</th>\n",
       "    </tr>\n",
       "  </thead>\n",
       "  <tbody>\n",
       "    <tr>\n",
       "      <th>161</th>\n",
       "      <td>bit</td>\n",
       "      <td>16</td>\n",
       "      <td>6968</td>\n",
       "      <td>49.967730</td>\n",
       "    </tr>\n",
       "    <tr>\n",
       "      <th>162</th>\n",
       "      <td>high</td>\n",
       "      <td>16</td>\n",
       "      <td>6984</td>\n",
       "      <td>50.082467</td>\n",
       "    </tr>\n",
       "    <tr>\n",
       "      <th>163</th>\n",
       "      <td>near</td>\n",
       "      <td>15</td>\n",
       "      <td>6999</td>\n",
       "      <td>50.190032</td>\n",
       "    </tr>\n",
       "  </tbody>\n",
       "</table>\n",
       "</div>"
      ],
      "text/plain": [
       "     Word  Count  Cum_Sum  Cum_Percent\n",
       "161   bit     16     6968    49.967730\n",
       "162  high     16     6984    50.082467\n",
       "163  near     15     6999    50.190032"
      ]
     },
     "execution_count": 13,
     "metadata": {},
     "output_type": "execute_result"
    }
   ],
   "source": [
    "carroll_frame = pd.DataFrame(carroll_common, columns = ['Word', 'Count'])\n",
    "carroll_frame['Cum_Sum'] = carroll_frame.Count.cumsum()\n",
    "carroll_frame['Cum_Percent'] = 100 * carroll_frame.Cum_Sum / carroll_frame.Count.sum()\n",
    "carroll_frame.iloc[161:164]"
   ]
  },
  {
   "cell_type": "markdown",
   "metadata": {},
   "source": [
    "### 4. Identify the 200 most common words:"
   ]
  },
  {
   "cell_type": "code",
   "execution_count": 14,
   "metadata": {
    "collapsed": false
   },
   "outputs": [
    {
     "data": {
      "text/html": [
       "<div>\n",
       "<table border=\"1\" class=\"dataframe\">\n",
       "  <thead>\n",
       "    <tr style=\"text-align: right;\">\n",
       "      <th></th>\n",
       "      <th>Word</th>\n",
       "      <th>Count</th>\n",
       "      <th>Cum_Sum</th>\n",
       "      <th>Cum_Percent</th>\n",
       "    </tr>\n",
       "  </thead>\n",
       "  <tbody>\n",
       "    <tr>\n",
       "      <th>0</th>\n",
       "      <td>i</td>\n",
       "      <td>543</td>\n",
       "      <td>543</td>\n",
       "      <td>3.893869</td>\n",
       "    </tr>\n",
       "    <tr>\n",
       "      <th>1</th>\n",
       "      <td>said</td>\n",
       "      <td>462</td>\n",
       "      <td>1005</td>\n",
       "      <td>7.206884</td>\n",
       "    </tr>\n",
       "    <tr>\n",
       "      <th>2</th>\n",
       "      <td>alice</td>\n",
       "      <td>398</td>\n",
       "      <td>1403</td>\n",
       "      <td>10.060954</td>\n",
       "    </tr>\n",
       "    <tr>\n",
       "      <th>3</th>\n",
       "      <td>little</td>\n",
       "      <td>128</td>\n",
       "      <td>1531</td>\n",
       "      <td>10.978845</td>\n",
       "    </tr>\n",
       "    <tr>\n",
       "      <th>4</th>\n",
       "      <td>the</td>\n",
       "      <td>115</td>\n",
       "      <td>1646</td>\n",
       "      <td>11.803514</td>\n",
       "    </tr>\n",
       "    <tr>\n",
       "      <th>5</th>\n",
       "      <td>one</td>\n",
       "      <td>104</td>\n",
       "      <td>1750</td>\n",
       "      <td>12.549301</td>\n",
       "    </tr>\n",
       "    <tr>\n",
       "      <th>6</th>\n",
       "      <td>know</td>\n",
       "      <td>88</td>\n",
       "      <td>1838</td>\n",
       "      <td>13.180351</td>\n",
       "    </tr>\n",
       "    <tr>\n",
       "      <th>7</th>\n",
       "      <td>like</td>\n",
       "      <td>85</td>\n",
       "      <td>1923</td>\n",
       "      <td>13.789889</td>\n",
       "    </tr>\n",
       "    <tr>\n",
       "      <th>8</th>\n",
       "      <td>would</td>\n",
       "      <td>83</td>\n",
       "      <td>2006</td>\n",
       "      <td>14.385084</td>\n",
       "    </tr>\n",
       "    <tr>\n",
       "      <th>9</th>\n",
       "      <td>went</td>\n",
       "      <td>83</td>\n",
       "      <td>2089</td>\n",
       "      <td>14.980280</td>\n",
       "    </tr>\n",
       "    <tr>\n",
       "      <th>10</th>\n",
       "      <td>could</td>\n",
       "      <td>77</td>\n",
       "      <td>2166</td>\n",
       "      <td>15.532449</td>\n",
       "    </tr>\n",
       "    <tr>\n",
       "      <th>11</th>\n",
       "      <td>queen</td>\n",
       "      <td>75</td>\n",
       "      <td>2241</td>\n",
       "      <td>16.070276</td>\n",
       "    </tr>\n",
       "    <tr>\n",
       "      <th>12</th>\n",
       "      <td>thought</td>\n",
       "      <td>74</td>\n",
       "      <td>2315</td>\n",
       "      <td>16.600932</td>\n",
       "    </tr>\n",
       "    <tr>\n",
       "      <th>13</th>\n",
       "      <td>time</td>\n",
       "      <td>71</td>\n",
       "      <td>2386</td>\n",
       "      <td>17.110075</td>\n",
       "    </tr>\n",
       "    <tr>\n",
       "      <th>14</th>\n",
       "      <td>and</td>\n",
       "      <td>70</td>\n",
       "      <td>2456</td>\n",
       "      <td>17.612047</td>\n",
       "    </tr>\n",
       "    <tr>\n",
       "      <th>15</th>\n",
       "      <td>it</td>\n",
       "      <td>68</td>\n",
       "      <td>2524</td>\n",
       "      <td>18.099677</td>\n",
       "    </tr>\n",
       "    <tr>\n",
       "      <th>16</th>\n",
       "      <td>see</td>\n",
       "      <td>67</td>\n",
       "      <td>2591</td>\n",
       "      <td>18.580136</td>\n",
       "    </tr>\n",
       "    <tr>\n",
       "      <th>17</th>\n",
       "      <td>you</td>\n",
       "      <td>66</td>\n",
       "      <td>2657</td>\n",
       "      <td>19.053424</td>\n",
       "    </tr>\n",
       "    <tr>\n",
       "      <th>18</th>\n",
       "      <td>king</td>\n",
       "      <td>63</td>\n",
       "      <td>2720</td>\n",
       "      <td>19.505199</td>\n",
       "    </tr>\n",
       "    <tr>\n",
       "      <th>19</th>\n",
       "      <td>well</td>\n",
       "      <td>63</td>\n",
       "      <td>2783</td>\n",
       "      <td>19.956974</td>\n",
       "    </tr>\n",
       "    <tr>\n",
       "      <th>20</th>\n",
       "      <td>turtle</td>\n",
       "      <td>59</td>\n",
       "      <td>2842</td>\n",
       "      <td>20.380065</td>\n",
       "    </tr>\n",
       "    <tr>\n",
       "      <th>21</th>\n",
       "      <td>began</td>\n",
       "      <td>58</td>\n",
       "      <td>2900</td>\n",
       "      <td>20.795984</td>\n",
       "    </tr>\n",
       "    <tr>\n",
       "      <th>22</th>\n",
       "      <td>hatter</td>\n",
       "      <td>56</td>\n",
       "      <td>2956</td>\n",
       "      <td>21.197562</td>\n",
       "    </tr>\n",
       "    <tr>\n",
       "      <th>23</th>\n",
       "      <td>way</td>\n",
       "      <td>56</td>\n",
       "      <td>3012</td>\n",
       "      <td>21.599139</td>\n",
       "    </tr>\n",
       "    <tr>\n",
       "      <th>24</th>\n",
       "      <td>mock</td>\n",
       "      <td>56</td>\n",
       "      <td>3068</td>\n",
       "      <td>22.000717</td>\n",
       "    </tr>\n",
       "    <tr>\n",
       "      <th>25</th>\n",
       "      <td>gryphon</td>\n",
       "      <td>55</td>\n",
       "      <td>3123</td>\n",
       "      <td>22.395124</td>\n",
       "    </tr>\n",
       "    <tr>\n",
       "      <th>26</th>\n",
       "      <td>quite</td>\n",
       "      <td>55</td>\n",
       "      <td>3178</td>\n",
       "      <td>22.789530</td>\n",
       "    </tr>\n",
       "    <tr>\n",
       "      <th>27</th>\n",
       "      <td>think</td>\n",
       "      <td>53</td>\n",
       "      <td>3231</td>\n",
       "      <td>23.169595</td>\n",
       "    </tr>\n",
       "    <tr>\n",
       "      <th>28</th>\n",
       "      <td>first</td>\n",
       "      <td>51</td>\n",
       "      <td>3282</td>\n",
       "      <td>23.535317</td>\n",
       "    </tr>\n",
       "    <tr>\n",
       "      <th>29</th>\n",
       "      <td>say</td>\n",
       "      <td>51</td>\n",
       "      <td>3333</td>\n",
       "      <td>23.901040</td>\n",
       "    </tr>\n",
       "    <tr>\n",
       "      <th>...</th>\n",
       "      <td>...</td>\n",
       "      <td>...</td>\n",
       "      <td>...</td>\n",
       "      <td>...</td>\n",
       "    </tr>\n",
       "    <tr>\n",
       "      <th>170</th>\n",
       "      <td>low</td>\n",
       "      <td>15</td>\n",
       "      <td>7104</td>\n",
       "      <td>50.942990</td>\n",
       "    </tr>\n",
       "    <tr>\n",
       "      <th>171</th>\n",
       "      <td>idea</td>\n",
       "      <td>15</td>\n",
       "      <td>7119</td>\n",
       "      <td>51.050556</td>\n",
       "    </tr>\n",
       "    <tr>\n",
       "      <th>172</th>\n",
       "      <td>done</td>\n",
       "      <td>15</td>\n",
       "      <td>7134</td>\n",
       "      <td>51.158121</td>\n",
       "    </tr>\n",
       "    <tr>\n",
       "      <th>173</th>\n",
       "      <td>arm</td>\n",
       "      <td>15</td>\n",
       "      <td>7149</td>\n",
       "      <td>51.265687</td>\n",
       "    </tr>\n",
       "    <tr>\n",
       "      <th>174</th>\n",
       "      <td>called</td>\n",
       "      <td>15</td>\n",
       "      <td>7164</td>\n",
       "      <td>51.373252</td>\n",
       "    </tr>\n",
       "    <tr>\n",
       "      <th>175</th>\n",
       "      <td>who</td>\n",
       "      <td>15</td>\n",
       "      <td>7179</td>\n",
       "      <td>51.480817</td>\n",
       "    </tr>\n",
       "    <tr>\n",
       "      <th>176</th>\n",
       "      <td>face</td>\n",
       "      <td>15</td>\n",
       "      <td>7194</td>\n",
       "      <td>51.588383</td>\n",
       "    </tr>\n",
       "    <tr>\n",
       "      <th>177</th>\n",
       "      <td>better</td>\n",
       "      <td>14</td>\n",
       "      <td>7208</td>\n",
       "      <td>51.688777</td>\n",
       "    </tr>\n",
       "    <tr>\n",
       "      <th>178</th>\n",
       "      <td>anxiously</td>\n",
       "      <td>14</td>\n",
       "      <td>7222</td>\n",
       "      <td>51.789172</td>\n",
       "    </tr>\n",
       "    <tr>\n",
       "      <th>179</th>\n",
       "      <td>left</td>\n",
       "      <td>14</td>\n",
       "      <td>7236</td>\n",
       "      <td>51.889566</td>\n",
       "    </tr>\n",
       "    <tr>\n",
       "      <th>180</th>\n",
       "      <td>everything</td>\n",
       "      <td>14</td>\n",
       "      <td>7250</td>\n",
       "      <td>51.989961</td>\n",
       "    </tr>\n",
       "    <tr>\n",
       "      <th>181</th>\n",
       "      <td>knew</td>\n",
       "      <td>14</td>\n",
       "      <td>7264</td>\n",
       "      <td>52.090355</td>\n",
       "    </tr>\n",
       "    <tr>\n",
       "      <th>182</th>\n",
       "      <td>hear</td>\n",
       "      <td>14</td>\n",
       "      <td>7278</td>\n",
       "      <td>52.190749</td>\n",
       "    </tr>\n",
       "    <tr>\n",
       "      <th>183</th>\n",
       "      <td>certainly</td>\n",
       "      <td>14</td>\n",
       "      <td>7292</td>\n",
       "      <td>52.291144</td>\n",
       "    </tr>\n",
       "    <tr>\n",
       "      <th>184</th>\n",
       "      <td>change</td>\n",
       "      <td>14</td>\n",
       "      <td>7306</td>\n",
       "      <td>52.391538</td>\n",
       "    </tr>\n",
       "    <tr>\n",
       "      <th>185</th>\n",
       "      <td>remember</td>\n",
       "      <td>14</td>\n",
       "      <td>7320</td>\n",
       "      <td>52.491933</td>\n",
       "    </tr>\n",
       "    <tr>\n",
       "      <th>186</th>\n",
       "      <td>talk</td>\n",
       "      <td>14</td>\n",
       "      <td>7334</td>\n",
       "      <td>52.592327</td>\n",
       "    </tr>\n",
       "    <tr>\n",
       "      <th>187</th>\n",
       "      <td>saw</td>\n",
       "      <td>14</td>\n",
       "      <td>7348</td>\n",
       "      <td>52.692721</td>\n",
       "    </tr>\n",
       "    <tr>\n",
       "      <th>188</th>\n",
       "      <td>of</td>\n",
       "      <td>14</td>\n",
       "      <td>7362</td>\n",
       "      <td>52.793116</td>\n",
       "    </tr>\n",
       "    <tr>\n",
       "      <th>189</th>\n",
       "      <td>trying</td>\n",
       "      <td>14</td>\n",
       "      <td>7376</td>\n",
       "      <td>52.893510</td>\n",
       "    </tr>\n",
       "    <tr>\n",
       "      <th>190</th>\n",
       "      <td>footman</td>\n",
       "      <td>14</td>\n",
       "      <td>7390</td>\n",
       "      <td>52.993905</td>\n",
       "    </tr>\n",
       "    <tr>\n",
       "      <th>191</th>\n",
       "      <td>suppose</td>\n",
       "      <td>14</td>\n",
       "      <td>7404</td>\n",
       "      <td>53.094299</td>\n",
       "    </tr>\n",
       "    <tr>\n",
       "      <th>192</th>\n",
       "      <td>beginning</td>\n",
       "      <td>14</td>\n",
       "      <td>7418</td>\n",
       "      <td>53.194693</td>\n",
       "    </tr>\n",
       "    <tr>\n",
       "      <th>193</th>\n",
       "      <td>set</td>\n",
       "      <td>14</td>\n",
       "      <td>7432</td>\n",
       "      <td>53.295088</td>\n",
       "    </tr>\n",
       "    <tr>\n",
       "      <th>194</th>\n",
       "      <td>sea</td>\n",
       "      <td>14</td>\n",
       "      <td>7446</td>\n",
       "      <td>53.395482</td>\n",
       "    </tr>\n",
       "    <tr>\n",
       "      <th>195</th>\n",
       "      <td>silence</td>\n",
       "      <td>14</td>\n",
       "      <td>7460</td>\n",
       "      <td>53.495877</td>\n",
       "    </tr>\n",
       "    <tr>\n",
       "      <th>196</th>\n",
       "      <td>us</td>\n",
       "      <td>14</td>\n",
       "      <td>7474</td>\n",
       "      <td>53.596271</td>\n",
       "    </tr>\n",
       "    <tr>\n",
       "      <th>197</th>\n",
       "      <td>baby</td>\n",
       "      <td>14</td>\n",
       "      <td>7488</td>\n",
       "      <td>53.696665</td>\n",
       "    </tr>\n",
       "    <tr>\n",
       "      <th>198</th>\n",
       "      <td>dinah</td>\n",
       "      <td>14</td>\n",
       "      <td>7502</td>\n",
       "      <td>53.797060</td>\n",
       "    </tr>\n",
       "    <tr>\n",
       "      <th>199</th>\n",
       "      <td>ought</td>\n",
       "      <td>14</td>\n",
       "      <td>7516</td>\n",
       "      <td>53.897454</td>\n",
       "    </tr>\n",
       "  </tbody>\n",
       "</table>\n",
       "<p>200 rows × 4 columns</p>\n",
       "</div>"
      ],
      "text/plain": [
       "           Word  Count  Cum_Sum  Cum_Percent\n",
       "0             i    543      543     3.893869\n",
       "1          said    462     1005     7.206884\n",
       "2         alice    398     1403    10.060954\n",
       "3        little    128     1531    10.978845\n",
       "4           the    115     1646    11.803514\n",
       "5           one    104     1750    12.549301\n",
       "6          know     88     1838    13.180351\n",
       "7          like     85     1923    13.789889\n",
       "8         would     83     2006    14.385084\n",
       "9          went     83     2089    14.980280\n",
       "10        could     77     2166    15.532449\n",
       "11        queen     75     2241    16.070276\n",
       "12      thought     74     2315    16.600932\n",
       "13         time     71     2386    17.110075\n",
       "14          and     70     2456    17.612047\n",
       "15           it     68     2524    18.099677\n",
       "16          see     67     2591    18.580136\n",
       "17          you     66     2657    19.053424\n",
       "18         king     63     2720    19.505199\n",
       "19         well     63     2783    19.956974\n",
       "20       turtle     59     2842    20.380065\n",
       "21        began     58     2900    20.795984\n",
       "22       hatter     56     2956    21.197562\n",
       "23          way     56     3012    21.599139\n",
       "24         mock     56     3068    22.000717\n",
       "25      gryphon     55     3123    22.395124\n",
       "26        quite     55     3178    22.789530\n",
       "27        think     53     3231    23.169595\n",
       "28        first     51     3282    23.535317\n",
       "29          say     51     3333    23.901040\n",
       "..          ...    ...      ...          ...\n",
       "170         low     15     7104    50.942990\n",
       "171        idea     15     7119    51.050556\n",
       "172        done     15     7134    51.158121\n",
       "173         arm     15     7149    51.265687\n",
       "174      called     15     7164    51.373252\n",
       "175         who     15     7179    51.480817\n",
       "176        face     15     7194    51.588383\n",
       "177      better     14     7208    51.688777\n",
       "178   anxiously     14     7222    51.789172\n",
       "179        left     14     7236    51.889566\n",
       "180  everything     14     7250    51.989961\n",
       "181        knew     14     7264    52.090355\n",
       "182        hear     14     7278    52.190749\n",
       "183   certainly     14     7292    52.291144\n",
       "184      change     14     7306    52.391538\n",
       "185    remember     14     7320    52.491933\n",
       "186        talk     14     7334    52.592327\n",
       "187         saw     14     7348    52.692721\n",
       "188          of     14     7362    52.793116\n",
       "189      trying     14     7376    52.893510\n",
       "190     footman     14     7390    52.993905\n",
       "191     suppose     14     7404    53.094299\n",
       "192   beginning     14     7418    53.194693\n",
       "193         set     14     7432    53.295088\n",
       "194         sea     14     7446    53.395482\n",
       "195     silence     14     7460    53.495877\n",
       "196          us     14     7474    53.596271\n",
       "197        baby     14     7488    53.696665\n",
       "198       dinah     14     7502    53.797060\n",
       "199       ought     14     7516    53.897454\n",
       "\n",
       "[200 rows x 4 columns]"
      ]
     },
     "execution_count": 14,
     "metadata": {},
     "output_type": "execute_result"
    }
   ],
   "source": [
    "carroll_frame.iloc[0:200]"
   ]
  },
  {
   "cell_type": "markdown",
   "metadata": {},
   "source": [
    "### 5. Graph the top 200 words:"
   ]
  },
  {
   "cell_type": "code",
   "execution_count": 15,
   "metadata": {
    "collapsed": false
   },
   "outputs": [
    {
     "data": {
      "image/png": "[encoded data removed]",
      "text/plain": [
       "<matplotlib.figure.Figure at 0xb4ef908>"
      ]
     },
     "metadata": {},
     "output_type": "display_data"
    }
   ],
   "source": [
    "plt.figure(figsize = (20,10))\n",
    "carroll_f.plot(200)"
   ]
  },
  {
   "cell_type": "markdown",
   "metadata": {},
   "source": [
    "### 6. Zipf's Law?"
   ]
  },
  {
   "cell_type": "code",
   "execution_count": 16,
   "metadata": {
    "collapsed": false
   },
   "outputs": [
    {
     "data": {
      "image/png": "[encoded data removed]",
      "text/plain": [
       "<matplotlib.figure.Figure at 0xb45c4e0>"
      ]
     },
     "metadata": {},
     "output_type": "display_data"
    }
   ],
   "source": [
    "# This section was odd to figure out, ended up using a link from Brown\n",
    "# as my method was not looking like it should.\n",
    "# https://finnaarupnielsen.wordpress.com/2013/10/22/zipf-plot-for-word-counts-in-brown-corpus/\n",
    "from string import lower\n",
    "from collections import Counter\n",
    "from __future__ import division\n",
    "from itertools import *\n",
    "from pylab import *\n",
    "\n",
    "plt.figure(figsize = (20,10))\n",
    "carroll_common = carroll_f.most_common(200)\n",
    "counts = array([word[1] for word in carroll_common])\n",
    "tokens = array([word[0] for word in carroll_common])\n",
    "ranks = arange(1, len(counts)+1)\n",
    "indices = argsort(-counts)\n",
    "frequencies = counts[indices]\n",
    "loglog(ranks, frequencies, marker=\".\")\n",
    "title(\"Zipf plot for Lewis Carroll's Alice in Wonderland\")\n",
    "xlabel(\"Frequency rank of token\")\n",
    "ylabel(\"Absolute frequency of token\")\n",
    "grid(True)\n",
    "for n in list(logspace(-0.5, log10(len(counts)), 20).astype(int)-1):\n",
    "    dummy = text(ranks[n], frequencies[n], \" \" + tokens[indices[n]], \n",
    "                 verticalalignment=\"bottom\",\n",
    "                 horizontalalignment=\"left\")\n",
    "\n",
    "show()"
   ]
  },
  {
   "cell_type": "markdown",
   "metadata": {},
   "source": [
    "Zipf's law says that \"the frequency of any word is inversely proportional to its rank in the frequency table.\" Given this idea, the expected graph above would show a relatively straight line. However, the first three words for a line of their own, with the other 197 forming a fairly straight line. This is not ideal, but the explanation could come from the corpus being formed of an unusual amount of dialogue. The top three words, \"I\", \"alice\", and \"said\" would be expected to be said in most cases of dialogue. \n",
    "\n",
    "Overall, I would say this corpus follows Zipf's law.\n",
    "\n",
    "### 7. How does this corpus differ from corpora as a collective?\n",
    "\n",
    "I covered this slightly in the explanation of Zipf's law, but the idea again is that due to excessive dialogue this corpus has a slightly different frequency structure than would be expected. Additionally, the specific words in the corpus can change depending on which are used. It would be interesting to combine different sources and compare the results."
   ]
  },
  {
   "cell_type": "code",
   "execution_count": null,
   "metadata": {
    "collapsed": true
   },
   "outputs": [],
   "source": []
  }
 ],
 "metadata": {
  "kernelspec": {
   "display_name": "Python 2",
   "language": "python",
   "name": "python2"
  },
  "language_info": {
   "codemirror_mode": {
    "name": "ipython",
    "version": 2
   },
   "file_extension": ".py",
   "mimetype": "text/x-python",
   "name": "python",
   "nbconvert_exporter": "python",
   "pygments_lexer": "ipython2",
   "version": "2.7.11"
  }
 },
 "nbformat": 4,
 "nbformat_minor": 0
}
