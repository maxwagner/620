{
 "cells": [
  {
   "cell_type": "code",
   "execution_count": 1,
   "metadata": {
    "collapsed": false
   },
   "outputs": [],
   "source": [
    "import networkx as nx\n",
    "import matplotlib.pyplot as plt"
   ]
  },
  {
   "cell_type": "code",
   "execution_count": 2,
   "metadata": {
    "collapsed": false
   },
   "outputs": [],
   "source": [
    "# the lazy way\n",
    "\n",
    "G = nx.Graph()\n",
    "G = nx.krackhardt_kite_graph()\n",
    "nx.draw(G, with_labels = True)\n",
    "plt.show()"
   ]
  },
  {
   "cell_type": "code",
   "execution_count": 3,
   "metadata": {
    "collapsed": false
   },
   "outputs": [],
   "source": [
    "# the slightly less lazy way\n",
    "\n",
    "def krack():\n",
    "    G = nx.Graph()\n",
    "    \n",
    "    # add all the edges\n",
    "    G.add_edge('Jane','Ike')\n",
    "    G.add_edge('Heather','Ike')\n",
    "    G.add_edge('Heather','Fernando')\n",
    "    G.add_edge('Heather','Garth')\n",
    "    G.add_edge('Fernando','Garth')\n",
    "    G.add_edge('Ed','Garth')\n",
    "    G.add_edge('Ed','Beverly')\n",
    "    G.add_edge('Andre','Beverly')\n",
    "    G.add_edge('Andre','Carol')\n",
    "    G.add_edge('Fernando','Carol')\n",
    "    G.add_edge('Andre','Fernando')\n",
    "    G.add_edge('Garth','Fernando')\n",
    "    G.add_edge('Garth','Beverly')\n",
    "    G.add_edge('Ed','Diane')\n",
    "    G.add_edge('Garth','Diane')\n",
    "    G.add_edge('Ed','Diane')\n",
    "    G.add_edge('Beverly','Diane')\n",
    "    G.add_edge('Andre','Diane')\n",
    "    G.add_edge('Carol','Diane')\n",
    "    G.add_edge('Fernando','Diane')\n",
    "\n",
    "    # draw it\n",
    "    nx.draw(G, with_labels = True)\n",
    "    plt.show()\n",
    "\n",
    "    \n",
    "krack()"
   ]
  }
 ],
 "metadata": {
  "kernelspec": {
   "display_name": "Python 2",
   "language": "python",
   "name": "python2"
  },
  "language_info": {
   "codemirror_mode": {
    "name": "ipython",
    "version": 2
   },
   "file_extension": ".py",
   "mimetype": "text/x-python",
   "name": "python",
   "nbconvert_exporter": "python",
   "pygments_lexer": "ipython2",
   "version": "2.7.11"
  }
 },
 "nbformat": 4,
 "nbformat_minor": 0
}
